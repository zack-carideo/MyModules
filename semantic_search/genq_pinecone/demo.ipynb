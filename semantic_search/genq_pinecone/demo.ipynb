{
 "cells": [
  {
   "cell_type": "markdown",
   "metadata": {},
   "source": [
    "#### E2E Demo Augmented Query Geneation and Semantic Search with Cross Encoder refinement\n",
    "\n",
    "    0) Tokenization of long passages using window and stride\n",
    "    1) Unsupervised Query Generation \n",
    "    2) Fine Tuning Bi-Encoder to use for semantic search \n",
    "    3) Creation of Faiss index using bi-encoder encoded passages\n",
    "    4) Incorporation of Cross-Encoder on top of results returned from Bi-Encoder retreival "
   ]
  },
  {
   "cell_type": "code",
   "execution_count": 2,
   "metadata": {},
   "outputs": [
    {
     "name": "stderr",
     "output_type": "stream",
     "text": [
      "c:\\Users\\zjc10\\Desktop\\Projects\\envs\\embed_db\\lib\\site-packages\\tqdm\\auto.py:21: TqdmWarning: IProgress not found. Please update jupyter and ipywidgets. See https://ipywidgets.readthedocs.io/en/stable/user_install.html\n",
      "  from .autonotebook import tqdm as notebook_tqdm\n",
      "INFO:faiss.loader:Loading faiss with AVX2 support.\n",
      "INFO:faiss.loader:Could not load library with AVX2 support due to:\n",
      "ModuleNotFoundError(\"No module named 'faiss.swigfaiss_avx2'\")\n",
      "INFO:faiss.loader:Loading faiss.\n",
      "INFO:faiss.loader:Successfully loaded faiss.\n"
     ]
    }
   ],
   "source": [
    "import sys,os,logging, gc\n",
    "import pandas as pd\n",
    "from pathlib import Path\n",
    "from transformers import AutoTokenizer, T5Tokenizer,T5TokenizerFast, T5ForConditionalGeneration\n",
    "from sentence_transformers import util , CrossEncoder\n",
    "import torch \n",
    "#set up basic logging\n",
    "logging.basicConfig()\n",
    "logging.getLogger().setLevel(logging.INFO)\n",
    "logger =  logging.getLogger(__name__)\n",
    "\n",
    "#config path \n",
    "root_ = os.path.abspath(\"\")\n",
    "cfg_path = Path(root_) / \"config.yaml\"\n",
    "\n",
    "#custom imports\n",
    "sys.path.append(root_)\n",
    "from util.misc import LoadCFG, seed_all, create_output_dirs\n",
    "from util.data import load_data\n",
    "from util.embedding_ops import query_ops\n",
    "from util.model_ops import build_model , load_model\n",
    "from util.index_ops import faiss_index \n",
    "\n",
    "#set seed \n",
    "SEED = 42\n",
    "seed_all(SEED)\n"
   ]
  },
  {
   "cell_type": "markdown",
   "metadata": {},
   "source": [
    "### LOAD CONFIG PARAMETERS"
   ]
  },
  {
   "cell_type": "code",
   "execution_count": 3,
   "metadata": {},
   "outputs": [
    {
     "name": "stderr",
     "output_type": "stream",
     "text": [
      "INFO:__main__:|===========================================================================|\n",
      "|                  PyTorch CUDA memory summary, device ID 0                 |\n",
      "|---------------------------------------------------------------------------|\n",
      "|            CUDA OOMs: 0            |        cudaMalloc retries: 0         |\n",
      "|===========================================================================|\n",
      "|        Metric         | Cur Usage  | Peak Usage | Tot Alloc  | Tot Freed  |\n",
      "|---------------------------------------------------------------------------|\n",
      "| Allocated memory      |       0 B  |       0 B  |       0 B  |       0 B  |\n",
      "|---------------------------------------------------------------------------|\n",
      "| Active memory         |       0 B  |       0 B  |       0 B  |       0 B  |\n",
      "|---------------------------------------------------------------------------|\n",
      "| GPU reserved memory   |       0 B  |       0 B  |       0 B  |       0 B  |\n",
      "|---------------------------------------------------------------------------|\n",
      "| Non-releasable memory |       0 B  |       0 B  |       0 B  |       0 B  |\n",
      "|---------------------------------------------------------------------------|\n",
      "| Allocations           |       0    |       0    |       0    |       0    |\n",
      "|---------------------------------------------------------------------------|\n",
      "| Active allocs         |       0    |       0    |       0    |       0    |\n",
      "|---------------------------------------------------------------------------|\n",
      "| GPU reserved segments |       0    |       0    |       0    |       0    |\n",
      "|---------------------------------------------------------------------------|\n",
      "| Non-releasable allocs |       0    |       0    |       0    |       0    |\n",
      "|---------------------------------------------------------------------------|\n",
      "| Oversize allocations  |       0    |       0    |       0    |       0    |\n",
      "|---------------------------------------------------------------------------|\n",
      "| Oversize GPU segments |       0    |       0    |       0    |       0    |\n",
      "|===========================================================================|\n",
      "\n"
     ]
    },
    {
     "name": "stdout",
     "output_type": "stream",
     "text": [
      "File DOES exist:\n",
      "\t c:\\Users\\zjc10\\Desktop\\Projects\\code\\MyModules\\semantic_search\\genq_pinecone\\config.yaml\n"
     ]
    }
   ],
   "source": [
    "\n",
    "#load cfg params\n",
    "cfg = LoadCFG(cfg_path, base_dir = root_).load()\n",
    "DATA_PATH = cfg.data.input.data_path\n",
    "SAVE_DIR = Path(cfg.data.output.data_save_dir)\n",
    "MODEL_SAVE_DIR = Path(cfg.model.model_save_dir)\n",
    "INDEX_SAVE_DIR = Path(cfg.model.ir.faiss_index.out_dir)\n",
    "\n",
    "NSAMPS = cfg.model.n_samps\n",
    "TOK_BATCH_SIZE = cfg.model.tokenizer.batch_size\n",
    "BI_ENCODER_MODEL_NAME = cfg.model.ir.bi_encoder.model_name\n",
    "EPOCHS = cfg.model.n_epochs\n",
    "BI_ENCODER_BATCH_SIZE =  cfg.model.ir.bi_encoder.batch_size\n",
    "CROSS_ENCODER_MODEL_NAME = cfg.model.ir.cross_encoder.model_name\n",
    "\n",
    "#tokenizer setup\n",
    "RETURN_TENSORS = cfg.model.tokenizer.return_tensors\n",
    "PADDING =  cfg.model.tokenizer.padding\n",
    "RETURN_OVERFLOW_TOKENS= cfg.model.tokenizer.return_overflow_tokens\n",
    "MAX_SEQ_LEN = cfg.model.tokenizer.max_seq_len\n",
    "TRUNCATION = cfg.model.tokenizer.truncation \n",
    "STRIDE = cfg.model.tokenizer.stride \n",
    "\n",
    "#query generator setup\n",
    "GENQ_MODEL_NAME = cfg.model.query_gen.model_name \n",
    "N_QUERIES_PER_PASSAGE =  cfg.model.query_gen.n_queries_per_passage \n",
    "\n",
    "#device\n",
    "DEVICE = torch.device(\"cuda\" if torch.cuda.is_available() else \"cpu\")\n",
    "\n",
    "#clean up gpu \n",
    "torch.cuda.empty_cache()\n",
    "gc.collect()\n",
    "logger.info(torch.cuda.memory_summary(device=DEVICE, abbreviated=True))\n",
    "\n",
    "#create output dirs\n",
    "create_output_dirs(SAVE_DIR, MODEL_SAVE_DIR)"
   ]
  },
  {
   "cell_type": "markdown",
   "metadata": {},
   "source": [
    "### Load models used in demo"
   ]
  },
  {
   "cell_type": "code",
   "execution_count": 4,
   "metadata": {},
   "outputs": [
    {
     "name": "stderr",
     "output_type": "stream",
     "text": [
      "You are using the legacy behaviour of the <class 'transformers.models.t5.tokenization_t5.T5Tokenizer'>. This means that tokens that come after special tokens will not be properly handled. We recommend you to read the related pull request available at https://github.com/huggingface/transformers/pull/24565\n",
      "INFO:sentence_transformers.SentenceTransformer:Load pretrained SentenceTransformer: C:\\Users\\zjc10\\Desktop\\Projects\\data\\semantic_search\\models\\fine_tuned_biencoder\n",
      "INFO:sentence_transformers.cross_encoder.CrossEncoder:Use pytorch device: cuda\n",
      "INFO:__main__:forcing model into eval mode\n"
     ]
    },
    {
     "name": "stdout",
     "output_type": "stream",
     "text": [
      "cuda\n"
     ]
    }
   ],
   "source": [
    "qgen_model = T5ForConditionalGeneration.from_pretrained(GENQ_MODEL_NAME)\n",
    "tokenizer = T5TokenizerFast.from_pretrained(GENQ_MODEL_NAME, do_lower_case=False)\n",
    "ir_model = load_model(str(MODEL_SAVE_DIR / 'fine_tuned_biencoder'), DEVICE)\n",
    "_ce = CrossEncoder(CROSS_ENCODER_MODEL_NAME)\n",
    "\n",
    "#call eval() to force / ensure model is running in 'INFERENCE MODE' and not 'TRAINING' mode\n",
    "logger.info('forcing model into eval mode')\n",
    "qgen_model.eval()\n",
    "model = qgen_model.to(DEVICE)\n",
    "print(DEVICE)"
   ]
  },
  {
   "cell_type": "markdown",
   "metadata": {},
   "source": [
    "#### LOAD DATA FOR QUERY GENERATION AND FINE TUNING "
   ]
  },
  {
   "cell_type": "code",
   "execution_count": 6,
   "metadata": {},
   "outputs": [
    {
     "name": "stderr",
     "output_type": "stream",
     "text": [
      "INFO:root:loading data from huggyface\n",
      "INFO:root:extracting text passages to generate queries for\n"
     ]
    },
    {
     "name": "stdout",
     "output_type": "stream",
     "text": [
      "33\n"
     ]
    }
   ],
   "source": [
    "logging.info('loading data from huggyface')\n",
    "df = load_data( load_from_directory=False \n",
    "               , hf_dataset_name = 'squad' \n",
    "               , split ='train') \n",
    "df[:1]\n",
    "\n",
    "\n",
    "# we want to emulate the scenario in which we do not have queries. \n",
    "# We will remove all but the 'context' data to do that. (aka all that is passed into framework is list of text)\n",
    "logging.info('extracting text passages to generate queries for')\n",
    "passages = list(set(df['context']))[2300:2300+ NSAMPS]\n",
    "passages = [(idx,txt) for idx,txt in enumerate(passages)]\n",
    "print(len(passages))"
   ]
  },
  {
   "cell_type": "markdown",
   "metadata": {},
   "source": [
    "### Initalize Query Generation Instance \n",
    "0) tokenize text into overlapping spanning windows \n",
    "1) create mapping of original input doc to associated tokeinized chunks \n",
    "2) for each chunk, generate 3 queries using t5\n",
    "3) return output data with 3 queries per input chunk"
   ]
  },
  {
   "cell_type": "code",
   "execution_count": 7,
   "metadata": {},
   "outputs": [
    {
     "name": "stderr",
     "output_type": "stream",
     "text": [
      "INFO:__main__:initalize embedding querier\n",
      "INFO:__main__:generating query, passage key value pairs\n",
      "4it [00:23,  5.84s/it]\n",
      "INFO:__main__:creating training data for bi-encoder fine tuning\n",
      "INFO:__main__:creating loader to handle loading batches of data for model training\n"
     ]
    },
    {
     "data": {
      "text/html": [
       "<div>\n",
       "<style scoped>\n",
       "    .dataframe tbody tr th:only-of-type {\n",
       "        vertical-align: middle;\n",
       "    }\n",
       "\n",
       "    .dataframe tbody tr th {\n",
       "        vertical-align: top;\n",
       "    }\n",
       "\n",
       "    .dataframe thead th {\n",
       "        text-align: right;\n",
       "    }\n",
       "</style>\n",
       "<table border=\"1\" class=\"dataframe\">\n",
       "  <thead>\n",
       "    <tr style=\"text-align: right;\">\n",
       "      <th></th>\n",
       "      <th>text</th>\n",
       "      <th>doc</th>\n",
       "      <th>chunk</th>\n",
       "      <th>ec_query_txt</th>\n",
       "      <th>_index</th>\n",
       "      <th>passage</th>\n",
       "    </tr>\n",
       "  </thead>\n",
       "  <tbody>\n",
       "    <tr>\n",
       "      <th>0</th>\n",
       "      <td>On the assumption that intellectual property rights are actual rights Stallman argues that this claim does not live to the historical intentions behind these laws, which in the case of copyright served as a censorship system, and later on, a regulatory model for the printing press that may have benefited authors incidentally, but never interfered with the freedom of average readers. Still referring to copyright, he cites legal literature such as the United States Constitution and case law to demonstrate that it is meant to be an optional and experimental bargain that temporarily trades property rights and free speech for public, not private, benefit in the form of increased artistic production and knowledge. He mentions that \"if copyright were a natural right nothing could justify terminating this right after a certain period of time\".&lt;/s&gt;&lt;pad&gt;&lt;pad&gt;&lt;pad&gt;&lt;pad&gt;&lt;pad&gt;&lt;pad&gt;&lt;pad&gt;&lt;pad&gt;&lt;pad&gt;&lt;pad&gt;&lt;pad&gt;&lt;pad&gt;&lt;pad&gt;&lt;pad&gt;&lt;pad&gt;&lt;pad&gt;&lt;pad&gt;&lt;pad&gt;&lt;pad&gt;&lt;pad&gt;&lt;pad&gt;&lt;pad&gt;&lt;pad&gt;&lt;pad&gt;&lt;pad&gt;&lt;pad&gt;&lt;pad&gt;&lt;pad&gt;&lt;pad&gt;&lt;pad&gt;&lt;pad&gt;&lt;pad&gt;</td>\n",
       "      <td>0</td>\n",
       "      <td>0</td>\n",
       "      <td>how does the copyright rule affect the legal system</td>\n",
       "      <td>0_0</td>\n",
       "      <td>0_0:On the assumption that intellectual property rights are actual rights Stallman argues that this claim does not live to the historical intentions behind these laws, which in the case of copyright served as a censorship system, and later on, a regulatory model for the printing press that may have benefited authors incidentally, but never interfered with the freedom of average readers. Still referring to copyright, he cites legal literature such as the United States Constitution and case law to demonstrate that it is meant to be an optional and experimental bargain that temporarily trades property rights and free speech for public, not private, benefit in the form of increased artistic production and knowledge. He mentions that \"if copyright were a natural right nothing could justify terminating this right after a certain period of time\".&lt;/s&gt;&lt;pad&gt;&lt;pad&gt;&lt;pad&gt;&lt;pad&gt;&lt;pad&gt;&lt;pad&gt;&lt;pad&gt;&lt;pad&gt;&lt;pad&gt;&lt;pad&gt;&lt;pad&gt;&lt;pad&gt;&lt;pad&gt;&lt;pad&gt;&lt;pad&gt;&lt;pad&gt;&lt;pad&gt;&lt;pad&gt;&lt;pad&gt;&lt;pad&gt;&lt;pad&gt;&lt;pad&gt;&lt;pad&gt;&lt;pad&gt;&lt;pad&gt;&lt;pad&gt;&lt;pad&gt;&lt;pad&gt;&lt;pad&gt;&lt;pad&gt;&lt;pad&gt;&lt;pad&gt;</td>\n",
       "    </tr>\n",
       "    <tr>\n",
       "      <th>1</th>\n",
       "      <td>On the assumption that intellectual property rights are actual rights Stallman argues that this claim does not live to the historical intentions behind these laws, which in the case of copyright served as a censorship system, and later on, a regulatory model for the printing press that may have benefited authors incidentally, but never interfered with the freedom of average readers. Still referring to copyright, he cites legal literature such as the United States Constitution and case law to demonstrate that it is meant to be an optional and experimental bargain that temporarily trades property rights and free speech for public, not private, benefit in the form of increased artistic production and knowledge. He mentions that \"if copyright were a natural right nothing could justify terminating this right after a certain period of time\".&lt;/s&gt;&lt;pad&gt;&lt;pad&gt;&lt;pad&gt;&lt;pad&gt;&lt;pad&gt;&lt;pad&gt;&lt;pad&gt;&lt;pad&gt;&lt;pad&gt;&lt;pad&gt;&lt;pad&gt;&lt;pad&gt;&lt;pad&gt;&lt;pad&gt;&lt;pad&gt;&lt;pad&gt;&lt;pad&gt;&lt;pad&gt;&lt;pad&gt;&lt;pad&gt;&lt;pad&gt;&lt;pad&gt;&lt;pad&gt;&lt;pad&gt;&lt;pad&gt;&lt;pad&gt;&lt;pad&gt;&lt;pad&gt;&lt;pad&gt;&lt;pad&gt;&lt;pad&gt;&lt;pad&gt;</td>\n",
       "      <td>0</td>\n",
       "      <td>0</td>\n",
       "      <td>what is the purpose of copyright law</td>\n",
       "      <td>0_0</td>\n",
       "      <td>0_0:On the assumption that intellectual property rights are actual rights Stallman argues that this claim does not live to the historical intentions behind these laws, which in the case of copyright served as a censorship system, and later on, a regulatory model for the printing press that may have benefited authors incidentally, but never interfered with the freedom of average readers. Still referring to copyright, he cites legal literature such as the United States Constitution and case law to demonstrate that it is meant to be an optional and experimental bargain that temporarily trades property rights and free speech for public, not private, benefit in the form of increased artistic production and knowledge. He mentions that \"if copyright were a natural right nothing could justify terminating this right after a certain period of time\".&lt;/s&gt;&lt;pad&gt;&lt;pad&gt;&lt;pad&gt;&lt;pad&gt;&lt;pad&gt;&lt;pad&gt;&lt;pad&gt;&lt;pad&gt;&lt;pad&gt;&lt;pad&gt;&lt;pad&gt;&lt;pad&gt;&lt;pad&gt;&lt;pad&gt;&lt;pad&gt;&lt;pad&gt;&lt;pad&gt;&lt;pad&gt;&lt;pad&gt;&lt;pad&gt;&lt;pad&gt;&lt;pad&gt;&lt;pad&gt;&lt;pad&gt;&lt;pad&gt;&lt;pad&gt;&lt;pad&gt;&lt;pad&gt;&lt;pad&gt;&lt;pad&gt;&lt;pad&gt;&lt;pad&gt;</td>\n",
       "    </tr>\n",
       "    <tr>\n",
       "      <th>2</th>\n",
       "      <td>On the assumption that intellectual property rights are actual rights Stallman argues that this claim does not live to the historical intentions behind these laws, which in the case of copyright served as a censorship system, and later on, a regulatory model for the printing press that may have benefited authors incidentally, but never interfered with the freedom of average readers. Still referring to copyright, he cites legal literature such as the United States Constitution and case law to demonstrate that it is meant to be an optional and experimental bargain that temporarily trades property rights and free speech for public, not private, benefit in the form of increased artistic production and knowledge. He mentions that \"if copyright were a natural right nothing could justify terminating this right after a certain period of time\".&lt;/s&gt;&lt;pad&gt;&lt;pad&gt;&lt;pad&gt;&lt;pad&gt;&lt;pad&gt;&lt;pad&gt;&lt;pad&gt;&lt;pad&gt;&lt;pad&gt;&lt;pad&gt;&lt;pad&gt;&lt;pad&gt;&lt;pad&gt;&lt;pad&gt;&lt;pad&gt;&lt;pad&gt;&lt;pad&gt;&lt;pad&gt;&lt;pad&gt;&lt;pad&gt;&lt;pad&gt;&lt;pad&gt;&lt;pad&gt;&lt;pad&gt;&lt;pad&gt;&lt;pad&gt;&lt;pad&gt;&lt;pad&gt;&lt;pad&gt;&lt;pad&gt;&lt;pad&gt;&lt;pad&gt;</td>\n",
       "      <td>0</td>\n",
       "      <td>0</td>\n",
       "      <td>what type of right is copyright</td>\n",
       "      <td>0_0</td>\n",
       "      <td>0_0:On the assumption that intellectual property rights are actual rights Stallman argues that this claim does not live to the historical intentions behind these laws, which in the case of copyright served as a censorship system, and later on, a regulatory model for the printing press that may have benefited authors incidentally, but never interfered with the freedom of average readers. Still referring to copyright, he cites legal literature such as the United States Constitution and case law to demonstrate that it is meant to be an optional and experimental bargain that temporarily trades property rights and free speech for public, not private, benefit in the form of increased artistic production and knowledge. He mentions that \"if copyright were a natural right nothing could justify terminating this right after a certain period of time\".&lt;/s&gt;&lt;pad&gt;&lt;pad&gt;&lt;pad&gt;&lt;pad&gt;&lt;pad&gt;&lt;pad&gt;&lt;pad&gt;&lt;pad&gt;&lt;pad&gt;&lt;pad&gt;&lt;pad&gt;&lt;pad&gt;&lt;pad&gt;&lt;pad&gt;&lt;pad&gt;&lt;pad&gt;&lt;pad&gt;&lt;pad&gt;&lt;pad&gt;&lt;pad&gt;&lt;pad&gt;&lt;pad&gt;&lt;pad&gt;&lt;pad&gt;&lt;pad&gt;&lt;pad&gt;&lt;pad&gt;&lt;pad&gt;&lt;pad&gt;&lt;pad&gt;&lt;pad&gt;&lt;pad&gt;</td>\n",
       "    </tr>\n",
       "  </tbody>\n",
       "</table>\n",
       "</div>"
      ],
      "text/plain": [
       "                                                                                                                                                                                                                                                                                                                                                                                                                                                                                                                                                                                                                                                                                                                                                                                                                                                                                                                                                                                                                                                  text  \\\n",
       "0  On the assumption that intellectual property rights are actual rights Stallman argues that this claim does not live to the historical intentions behind these laws, which in the case of copyright served as a censorship system, and later on, a regulatory model for the printing press that may have benefited authors incidentally, but never interfered with the freedom of average readers. Still referring to copyright, he cites legal literature such as the United States Constitution and case law to demonstrate that it is meant to be an optional and experimental bargain that temporarily trades property rights and free speech for public, not private, benefit in the form of increased artistic production and knowledge. He mentions that \"if copyright were a natural right nothing could justify terminating this right after a certain period of time\".</s><pad><pad><pad><pad><pad><pad><pad><pad><pad><pad><pad><pad><pad><pad><pad><pad><pad><pad><pad><pad><pad><pad><pad><pad><pad><pad><pad><pad><pad><pad><pad><pad>   \n",
       "1  On the assumption that intellectual property rights are actual rights Stallman argues that this claim does not live to the historical intentions behind these laws, which in the case of copyright served as a censorship system, and later on, a regulatory model for the printing press that may have benefited authors incidentally, but never interfered with the freedom of average readers. Still referring to copyright, he cites legal literature such as the United States Constitution and case law to demonstrate that it is meant to be an optional and experimental bargain that temporarily trades property rights and free speech for public, not private, benefit in the form of increased artistic production and knowledge. He mentions that \"if copyright were a natural right nothing could justify terminating this right after a certain period of time\".</s><pad><pad><pad><pad><pad><pad><pad><pad><pad><pad><pad><pad><pad><pad><pad><pad><pad><pad><pad><pad><pad><pad><pad><pad><pad><pad><pad><pad><pad><pad><pad><pad>   \n",
       "2  On the assumption that intellectual property rights are actual rights Stallman argues that this claim does not live to the historical intentions behind these laws, which in the case of copyright served as a censorship system, and later on, a regulatory model for the printing press that may have benefited authors incidentally, but never interfered with the freedom of average readers. Still referring to copyright, he cites legal literature such as the United States Constitution and case law to demonstrate that it is meant to be an optional and experimental bargain that temporarily trades property rights and free speech for public, not private, benefit in the form of increased artistic production and knowledge. He mentions that \"if copyright were a natural right nothing could justify terminating this right after a certain period of time\".</s><pad><pad><pad><pad><pad><pad><pad><pad><pad><pad><pad><pad><pad><pad><pad><pad><pad><pad><pad><pad><pad><pad><pad><pad><pad><pad><pad><pad><pad><pad><pad><pad>   \n",
       "\n",
       "   doc  chunk                                         ec_query_txt _index  \\\n",
       "0    0      0  how does the copyright rule affect the legal system    0_0   \n",
       "1    0      0                 what is the purpose of copyright law    0_0   \n",
       "2    0      0                      what type of right is copyright    0_0   \n",
       "\n",
       "                                                                                                                                                                                                                                                                                                                                                                                                                                                                                                                                                                                                                                                                                                                                                                                                                                                                                                                                                                                                                                                   passage  \n",
       "0  0_0:On the assumption that intellectual property rights are actual rights Stallman argues that this claim does not live to the historical intentions behind these laws, which in the case of copyright served as a censorship system, and later on, a regulatory model for the printing press that may have benefited authors incidentally, but never interfered with the freedom of average readers. Still referring to copyright, he cites legal literature such as the United States Constitution and case law to demonstrate that it is meant to be an optional and experimental bargain that temporarily trades property rights and free speech for public, not private, benefit in the form of increased artistic production and knowledge. He mentions that \"if copyright were a natural right nothing could justify terminating this right after a certain period of time\".</s><pad><pad><pad><pad><pad><pad><pad><pad><pad><pad><pad><pad><pad><pad><pad><pad><pad><pad><pad><pad><pad><pad><pad><pad><pad><pad><pad><pad><pad><pad><pad><pad>  \n",
       "1  0_0:On the assumption that intellectual property rights are actual rights Stallman argues that this claim does not live to the historical intentions behind these laws, which in the case of copyright served as a censorship system, and later on, a regulatory model for the printing press that may have benefited authors incidentally, but never interfered with the freedom of average readers. Still referring to copyright, he cites legal literature such as the United States Constitution and case law to demonstrate that it is meant to be an optional and experimental bargain that temporarily trades property rights and free speech for public, not private, benefit in the form of increased artistic production and knowledge. He mentions that \"if copyright were a natural right nothing could justify terminating this right after a certain period of time\".</s><pad><pad><pad><pad><pad><pad><pad><pad><pad><pad><pad><pad><pad><pad><pad><pad><pad><pad><pad><pad><pad><pad><pad><pad><pad><pad><pad><pad><pad><pad><pad><pad>  \n",
       "2  0_0:On the assumption that intellectual property rights are actual rights Stallman argues that this claim does not live to the historical intentions behind these laws, which in the case of copyright served as a censorship system, and later on, a regulatory model for the printing press that may have benefited authors incidentally, but never interfered with the freedom of average readers. Still referring to copyright, he cites legal literature such as the United States Constitution and case law to demonstrate that it is meant to be an optional and experimental bargain that temporarily trades property rights and free speech for public, not private, benefit in the form of increased artistic production and knowledge. He mentions that \"if copyright were a natural right nothing could justify terminating this right after a certain period of time\".</s><pad><pad><pad><pad><pad><pad><pad><pad><pad><pad><pad><pad><pad><pad><pad><pad><pad><pad><pad><pad><pad><pad><pad><pad><pad><pad><pad><pad><pad><pad><pad><pad>  "
      ]
     },
     "execution_count": 7,
     "metadata": {},
     "output_type": "execute_result"
    }
   ],
   "source": [
    "#initalize class to generate queries from passages\n",
    "logger.info('initalize embedding querier')\n",
    "queryer = query_ops(\n",
    "     tokenizer\n",
    "    , qgen_model \n",
    "    , SAVE_DIR\n",
    "    , n_queries_per_passage = N_QUERIES_PER_PASSAGE\n",
    "    , save_batch_size = 1000\n",
    "    , train_batch_size = TOK_BATCH_SIZE    \n",
    "    , return_tensors = RETURN_TENSORS\n",
    "    , padding =  PADDING\n",
    "    , return_overflowing_tokens= RETURN_OVERFLOW_TOKENS\n",
    "    , max_seq_len = MAX_SEQ_LEN\n",
    "    , truncation = TRUNCATION \n",
    "    , stride = STRIDE \n",
    "    )\n",
    "\n",
    "#generate query,passage key value pairs , save to disk , return paths \n",
    "logger.info('generating query, passage key value pairs')\n",
    "query_passage_outpaths = queryer.gen_queries_from_passages(passages)\n",
    "                  \n",
    "#create sentence_transformers comptable training dataset using InputExample() method from transformers\n",
    "logger.info('creating training data for bi-encoder fine tuning')\n",
    "\n",
    "#create train df, including docidx, and chunk idx information\n",
    "train_df , pairs= queryer.create_training_data( query_passage_outpaths)\n",
    "\n",
    "#create object to handle loading of InputExample() instances in batches of 50 \n",
    "logger.info('creating loader to handle loading batches of data for model training')\n",
    "\n",
    "#show mapping of chunks back to original doc \n",
    "pd.set_option('display.max_colwidth', None)\n",
    "train_df[train_df['doc']==0]"
   ]
  },
  {
   "cell_type": "code",
   "execution_count": 12,
   "metadata": {},
   "outputs": [
    {
     "data": {
      "text/html": [
       "<div>\n",
       "<style scoped>\n",
       "    .dataframe tbody tr th:only-of-type {\n",
       "        vertical-align: middle;\n",
       "    }\n",
       "\n",
       "    .dataframe tbody tr th {\n",
       "        vertical-align: top;\n",
       "    }\n",
       "\n",
       "    .dataframe thead th {\n",
       "        text-align: right;\n",
       "    }\n",
       "</style>\n",
       "<table border=\"1\" class=\"dataframe\">\n",
       "  <thead>\n",
       "    <tr style=\"text-align: right;\">\n",
       "      <th></th>\n",
       "      <th>text</th>\n",
       "      <th>doc</th>\n",
       "      <th>chunk</th>\n",
       "      <th>ec_query_txt</th>\n",
       "      <th>_index</th>\n",
       "      <th>passage</th>\n",
       "    </tr>\n",
       "  </thead>\n",
       "  <tbody>\n",
       "    <tr>\n",
       "      <th>24</th>\n",
       "      <td>By August 1805, Napoleon had realized that the strategic situation had changed fundamentally. Facing a potential invasion from his continental enemies, he decided to strike first and turned his army's sights from the English Channel to the Rhine. His basic objective was to destroy the isolated Austrian armies in Southern Germany before their Russian allies could arrive. On 25 September, after great secrecy and feverish marching, 200,000 French troops began to cross the Rhine on a front of 260 km (160 mi). Austrian commander Karl Mack had gathered the greater part of the Austrian army at the fortress of Ulm in Swabia. Napoleon swung his forces to the southeast and the Grande Armée performed an elaborate wheeling movement that outflanked the Austrian positions. The Ulm Maneuver completely surprised General Mack, who belatedly understood that his army had been cut off. After some minor engagement&lt;/s&gt;</td>\n",
       "      <td>7</td>\n",
       "      <td>0</td>\n",
       "      <td>why did the ulm maneuver occur</td>\n",
       "      <td>7_0</td>\n",
       "      <td>7_0:By August 1805, Napoleon had realized that the strategic situation had changed fundamentally. Facing a potential invasion from his continental enemies, he decided to strike first and turned his army's sights from the English Channel to the Rhine. His basic objective was to destroy the isolated Austrian armies in Southern Germany before their Russian allies could arrive. On 25 September, after great secrecy and feverish marching, 200,000 French troops began to cross the Rhine on a front of 260 km (160 mi). Austrian commander Karl Mack had gathered the greater part of the Austrian army at the fortress of Ulm in Swabia. Napoleon swung his forces to the southeast and the Grande Armée performed an elaborate wheeling movement that outflanked the Austrian positions. The Ulm Maneuver completely surprised General Mack, who belatedly understood that his army had been cut off. After some minor engagement&lt;/s&gt;</td>\n",
       "    </tr>\n",
       "    <tr>\n",
       "      <th>25</th>\n",
       "      <td>By August 1805, Napoleon had realized that the strategic situation had changed fundamentally. Facing a potential invasion from his continental enemies, he decided to strike first and turned his army's sights from the English Channel to the Rhine. His basic objective was to destroy the isolated Austrian armies in Southern Germany before their Russian allies could arrive. On 25 September, after great secrecy and feverish marching, 200,000 French troops began to cross the Rhine on a front of 260 km (160 mi). Austrian commander Karl Mack had gathered the greater part of the Austrian army at the fortress of Ulm in Swabia. Napoleon swung his forces to the southeast and the Grande Armée performed an elaborate wheeling movement that outflanked the Austrian positions. The Ulm Maneuver completely surprised General Mack, who belatedly understood that his army had been cut off. After some minor engagement&lt;/s&gt;</td>\n",
       "      <td>7</td>\n",
       "      <td>0</td>\n",
       "      <td>what was napoleon's objective in fighting the austrianian army?</td>\n",
       "      <td>7_0</td>\n",
       "      <td>7_0:By August 1805, Napoleon had realized that the strategic situation had changed fundamentally. Facing a potential invasion from his continental enemies, he decided to strike first and turned his army's sights from the English Channel to the Rhine. His basic objective was to destroy the isolated Austrian armies in Southern Germany before their Russian allies could arrive. On 25 September, after great secrecy and feverish marching, 200,000 French troops began to cross the Rhine on a front of 260 km (160 mi). Austrian commander Karl Mack had gathered the greater part of the Austrian army at the fortress of Ulm in Swabia. Napoleon swung his forces to the southeast and the Grande Armée performed an elaborate wheeling movement that outflanked the Austrian positions. The Ulm Maneuver completely surprised General Mack, who belatedly understood that his army had been cut off. After some minor engagement&lt;/s&gt;</td>\n",
       "    </tr>\n",
       "    <tr>\n",
       "      <th>26</th>\n",
       "      <td>By August 1805, Napoleon had realized that the strategic situation had changed fundamentally. Facing a potential invasion from his continental enemies, he decided to strike first and turned his army's sights from the English Channel to the Rhine. His basic objective was to destroy the isolated Austrian armies in Southern Germany before their Russian allies could arrive. On 25 September, after great secrecy and feverish marching, 200,000 French troops began to cross the Rhine on a front of 260 km (160 mi). Austrian commander Karl Mack had gathered the greater part of the Austrian army at the fortress of Ulm in Swabia. Napoleon swung his forces to the southeast and the Grande Armée performed an elaborate wheeling movement that outflanked the Austrian positions. The Ulm Maneuver completely surprised General Mack, who belatedly understood that his army had been cut off. After some minor engagement&lt;/s&gt;</td>\n",
       "      <td>7</td>\n",
       "      <td>0</td>\n",
       "      <td>which strategic advance by napoleon was an example of the grande armee maneuver?</td>\n",
       "      <td>7_0</td>\n",
       "      <td>7_0:By August 1805, Napoleon had realized that the strategic situation had changed fundamentally. Facing a potential invasion from his continental enemies, he decided to strike first and turned his army's sights from the English Channel to the Rhine. His basic objective was to destroy the isolated Austrian armies in Southern Germany before their Russian allies could arrive. On 25 September, after great secrecy and feverish marching, 200,000 French troops began to cross the Rhine on a front of 260 km (160 mi). Austrian commander Karl Mack had gathered the greater part of the Austrian army at the fortress of Ulm in Swabia. Napoleon swung his forces to the southeast and the Grande Armée performed an elaborate wheeling movement that outflanked the Austrian positions. The Ulm Maneuver completely surprised General Mack, who belatedly understood that his army had been cut off. After some minor engagement&lt;/s&gt;</td>\n",
       "    </tr>\n",
       "    <tr>\n",
       "      <th>27</th>\n",
       "      <td>Napoleon swung his forces to the southeast and the Grande Armée performed an elaborate wheeling movement that outflanked the Austrian positions. The Ulm Maneuver completely surprised General Mack, who belatedly understood that his army had been cut off. After some minor engagements that culminated in the Battle of Ulm, Mack finally surrendered after realizing that there was no way to break out of the French encirclement. For just 2000 French casualties, Napoleon had managed to capture a total of 60,000 Austrian soldiers through his army's rapid marching. The Ulm Campaign is generally regarded as a strategic masterpiece and was influential in the development of the Schlieffen Plan in the late 19th century. For the French, this spectacular victory on land was soured by the decisive victory that the Royal Navy attained at the Battle of Trafalgar on 21 October. After Trafalgar, Britain&lt;/s&gt;</td>\n",
       "      <td>7</td>\n",
       "      <td>1</td>\n",
       "      <td>what was the ulm maneuver</td>\n",
       "      <td>7_1</td>\n",
       "      <td>7_1:Napoleon swung his forces to the southeast and the Grande Armée performed an elaborate wheeling movement that outflanked the Austrian positions. The Ulm Maneuver completely surprised General Mack, who belatedly understood that his army had been cut off. After some minor engagements that culminated in the Battle of Ulm, Mack finally surrendered after realizing that there was no way to break out of the French encirclement. For just 2000 French casualties, Napoleon had managed to capture a total of 60,000 Austrian soldiers through his army's rapid marching. The Ulm Campaign is generally regarded as a strategic masterpiece and was influential in the development of the Schlieffen Plan in the late 19th century. For the French, this spectacular victory on land was soured by the decisive victory that the Royal Navy attained at the Battle of Trafalgar on 21 October. After Trafalgar, Britain&lt;/s&gt;</td>\n",
       "    </tr>\n",
       "    <tr>\n",
       "      <th>28</th>\n",
       "      <td>Napoleon swung his forces to the southeast and the Grande Armée performed an elaborate wheeling movement that outflanked the Austrian positions. The Ulm Maneuver completely surprised General Mack, who belatedly understood that his army had been cut off. After some minor engagements that culminated in the Battle of Ulm, Mack finally surrendered after realizing that there was no way to break out of the French encirclement. For just 2000 French casualties, Napoleon had managed to capture a total of 60,000 Austrian soldiers through his army's rapid marching. The Ulm Campaign is generally regarded as a strategic masterpiece and was influential in the development of the Schlieffen Plan in the late 19th century. For the French, this spectacular victory on land was soured by the decisive victory that the Royal Navy attained at the Battle of Trafalgar on 21 October. After Trafalgar, Britain&lt;/s&gt;</td>\n",
       "      <td>7</td>\n",
       "      <td>1</td>\n",
       "      <td>what was the ulm maneuver, when did it end?</td>\n",
       "      <td>7_1</td>\n",
       "      <td>7_1:Napoleon swung his forces to the southeast and the Grande Armée performed an elaborate wheeling movement that outflanked the Austrian positions. The Ulm Maneuver completely surprised General Mack, who belatedly understood that his army had been cut off. After some minor engagements that culminated in the Battle of Ulm, Mack finally surrendered after realizing that there was no way to break out of the French encirclement. For just 2000 French casualties, Napoleon had managed to capture a total of 60,000 Austrian soldiers through his army's rapid marching. The Ulm Campaign is generally regarded as a strategic masterpiece and was influential in the development of the Schlieffen Plan in the late 19th century. For the French, this spectacular victory on land was soured by the decisive victory that the Royal Navy attained at the Battle of Trafalgar on 21 October. After Trafalgar, Britain&lt;/s&gt;</td>\n",
       "    </tr>\n",
       "    <tr>\n",
       "      <th>29</th>\n",
       "      <td>Napoleon swung his forces to the southeast and the Grande Armée performed an elaborate wheeling movement that outflanked the Austrian positions. The Ulm Maneuver completely surprised General Mack, who belatedly understood that his army had been cut off. After some minor engagements that culminated in the Battle of Ulm, Mack finally surrendered after realizing that there was no way to break out of the French encirclement. For just 2000 French casualties, Napoleon had managed to capture a total of 60,000 Austrian soldiers through his army's rapid marching. The Ulm Campaign is generally regarded as a strategic masterpiece and was influential in the development of the Schlieffen Plan in the late 19th century. For the French, this spectacular victory on land was soured by the decisive victory that the Royal Navy attained at the Battle of Trafalgar on 21 October. After Trafalgar, Britain&lt;/s&gt;</td>\n",
       "      <td>7</td>\n",
       "      <td>1</td>\n",
       "      <td>what was the result of napoleon's invasion of austria?</td>\n",
       "      <td>7_1</td>\n",
       "      <td>7_1:Napoleon swung his forces to the southeast and the Grande Armée performed an elaborate wheeling movement that outflanked the Austrian positions. The Ulm Maneuver completely surprised General Mack, who belatedly understood that his army had been cut off. After some minor engagements that culminated in the Battle of Ulm, Mack finally surrendered after realizing that there was no way to break out of the French encirclement. For just 2000 French casualties, Napoleon had managed to capture a total of 60,000 Austrian soldiers through his army's rapid marching. The Ulm Campaign is generally regarded as a strategic masterpiece and was influential in the development of the Schlieffen Plan in the late 19th century. For the French, this spectacular victory on land was soured by the decisive victory that the Royal Navy attained at the Battle of Trafalgar on 21 October. After Trafalgar, Britain&lt;/s&gt;</td>\n",
       "    </tr>\n",
       "    <tr>\n",
       "      <th>30</th>\n",
       "      <td>was influential in the development of the Schlieffen Plan in the late 19th century. For the French, this spectacular victory on land was soured by the decisive victory that the Royal Navy attained at the Battle of Trafalgar on 21 October. After Trafalgar, Britain had total domination of the seas for the duration of the Napoleonic Wars.&lt;/s&gt;&lt;pad&gt;&lt;pad&gt;&lt;pad&gt;&lt;pad&gt;&lt;pad&gt;&lt;pad&gt;&lt;pad&gt;&lt;pad&gt;&lt;pad&gt;&lt;pad&gt;&lt;pad&gt;&lt;pad&gt;&lt;pad&gt;&lt;pad&gt;&lt;pad&gt;&lt;pad&gt;&lt;pad&gt;&lt;pad&gt;&lt;pad&gt;&lt;pad&gt;&lt;pad&gt;&lt;pad&gt;&lt;pad&gt;&lt;pad&gt;&lt;pad&gt;&lt;pad&gt;&lt;pad&gt;&lt;pad&gt;&lt;pad&gt;&lt;pad&gt;&lt;pad&gt;&lt;pad&gt;&lt;pad&gt;&lt;pad&gt;&lt;pad&gt;&lt;pad&gt;&lt;pad&gt;&lt;pad&gt;&lt;pad&gt;&lt;pad&gt;&lt;pad&gt;&lt;pad&gt;&lt;pad&gt;&lt;pad&gt;&lt;pad&gt;&lt;pad&gt;&lt;pad&gt;&lt;pad&gt;&lt;pad&gt;&lt;pad&gt;&lt;pad&gt;&lt;pad&gt;&lt;pad&gt;&lt;pad&gt;&lt;pad&gt;&lt;pad&gt;&lt;pad&gt;&lt;pad&gt;&lt;pad&gt;&lt;pad&gt;&lt;pad&gt;&lt;pad&gt;&lt;pad&gt;&lt;pad&gt;&lt;pad&gt;&lt;pad&gt;&lt;pad&gt;&lt;pad&gt;&lt;pad&gt;&lt;pad&gt;&lt;pad&gt;&lt;pad&gt;&lt;pad&gt;&lt;pad&gt;&lt;pad&gt;&lt;pad&gt;&lt;pad&gt;&lt;pad&gt;&lt;pad&gt;&lt;pad&gt;&lt;pad&gt;&lt;pad&gt;&lt;pad&gt;&lt;pad&gt;&lt;pad&gt;&lt;pad&gt;&lt;pad&gt;&lt;pad&gt;&lt;pad&gt;&lt;pad&gt;&lt;pad&gt;&lt;pad&gt;&lt;pad&gt;&lt;pad&gt;&lt;pad&gt;&lt;pad&gt;&lt;pad&gt;&lt;pad&gt;&lt;pad&gt;&lt;pad&gt;&lt;pad&gt;&lt;pad&gt;&lt;pad&gt;&lt;pad&gt;&lt;pad&gt;&lt;pad&gt;&lt;pad&gt;&lt;pad&gt;&lt;pad&gt;&lt;pad&gt;&lt;pad&gt;&lt;pad&gt;&lt;pad&gt;&lt;pad&gt;&lt;pad&gt;&lt;pad&gt;&lt;pad&gt;&lt;pad&gt;&lt;pad&gt;&lt;pad&gt;&lt;pad&gt;&lt;pad&gt;</td>\n",
       "      <td>7</td>\n",
       "      <td>2</td>\n",
       "      <td>why did trafalgar take place</td>\n",
       "      <td>7_2</td>\n",
       "      <td>7_2:was influential in the development of the Schlieffen Plan in the late 19th century. For the French, this spectacular victory on land was soured by the decisive victory that the Royal Navy attained at the Battle of Trafalgar on 21 October. After Trafalgar, Britain had total domination of the seas for the duration of the Napoleonic Wars.&lt;/s&gt;&lt;pad&gt;&lt;pad&gt;&lt;pad&gt;&lt;pad&gt;&lt;pad&gt;&lt;pad&gt;&lt;pad&gt;&lt;pad&gt;&lt;pad&gt;&lt;pad&gt;&lt;pad&gt;&lt;pad&gt;&lt;pad&gt;&lt;pad&gt;&lt;pad&gt;&lt;pad&gt;&lt;pad&gt;&lt;pad&gt;&lt;pad&gt;&lt;pad&gt;&lt;pad&gt;&lt;pad&gt;&lt;pad&gt;&lt;pad&gt;&lt;pad&gt;&lt;pad&gt;&lt;pad&gt;&lt;pad&gt;&lt;pad&gt;&lt;pad&gt;&lt;pad&gt;&lt;pad&gt;&lt;pad&gt;&lt;pad&gt;&lt;pad&gt;&lt;pad&gt;&lt;pad&gt;&lt;pad&gt;&lt;pad&gt;&lt;pad&gt;&lt;pad&gt;&lt;pad&gt;&lt;pad&gt;&lt;pad&gt;&lt;pad&gt;&lt;pad&gt;&lt;pad&gt;&lt;pad&gt;&lt;pad&gt;&lt;pad&gt;&lt;pad&gt;&lt;pad&gt;&lt;pad&gt;&lt;pad&gt;&lt;pad&gt;&lt;pad&gt;&lt;pad&gt;&lt;pad&gt;&lt;pad&gt;&lt;pad&gt;&lt;pad&gt;&lt;pad&gt;&lt;pad&gt;&lt;pad&gt;&lt;pad&gt;&lt;pad&gt;&lt;pad&gt;&lt;pad&gt;&lt;pad&gt;&lt;pad&gt;&lt;pad&gt;&lt;pad&gt;&lt;pad&gt;&lt;pad&gt;&lt;pad&gt;&lt;pad&gt;&lt;pad&gt;&lt;pad&gt;&lt;pad&gt;&lt;pad&gt;&lt;pad&gt;&lt;pad&gt;&lt;pad&gt;&lt;pad&gt;&lt;pad&gt;&lt;pad&gt;&lt;pad&gt;&lt;pad&gt;&lt;pad&gt;&lt;pad&gt;&lt;pad&gt;&lt;pad&gt;&lt;pad&gt;&lt;pad&gt;&lt;pad&gt;&lt;pad&gt;&lt;pad&gt;&lt;pad&gt;&lt;pad&gt;&lt;pad&gt;&lt;pad&gt;&lt;pad&gt;&lt;pad&gt;&lt;pad&gt;&lt;pad&gt;&lt;pad&gt;&lt;pad&gt;&lt;pad&gt;&lt;pad&gt;&lt;pad&gt;&lt;pad&gt;&lt;pad&gt;&lt;pad&gt;&lt;pad&gt;&lt;pad&gt;&lt;pad&gt;&lt;pad&gt;&lt;pad&gt;&lt;pad&gt;&lt;pad&gt;&lt;pad&gt;&lt;pad&gt;</td>\n",
       "    </tr>\n",
       "    <tr>\n",
       "      <th>31</th>\n",
       "      <td>was influential in the development of the Schlieffen Plan in the late 19th century. For the French, this spectacular victory on land was soured by the decisive victory that the Royal Navy attained at the Battle of Trafalgar on 21 October. After Trafalgar, Britain had total domination of the seas for the duration of the Napoleonic Wars.&lt;/s&gt;&lt;pad&gt;&lt;pad&gt;&lt;pad&gt;&lt;pad&gt;&lt;pad&gt;&lt;pad&gt;&lt;pad&gt;&lt;pad&gt;&lt;pad&gt;&lt;pad&gt;&lt;pad&gt;&lt;pad&gt;&lt;pad&gt;&lt;pad&gt;&lt;pad&gt;&lt;pad&gt;&lt;pad&gt;&lt;pad&gt;&lt;pad&gt;&lt;pad&gt;&lt;pad&gt;&lt;pad&gt;&lt;pad&gt;&lt;pad&gt;&lt;pad&gt;&lt;pad&gt;&lt;pad&gt;&lt;pad&gt;&lt;pad&gt;&lt;pad&gt;&lt;pad&gt;&lt;pad&gt;&lt;pad&gt;&lt;pad&gt;&lt;pad&gt;&lt;pad&gt;&lt;pad&gt;&lt;pad&gt;&lt;pad&gt;&lt;pad&gt;&lt;pad&gt;&lt;pad&gt;&lt;pad&gt;&lt;pad&gt;&lt;pad&gt;&lt;pad&gt;&lt;pad&gt;&lt;pad&gt;&lt;pad&gt;&lt;pad&gt;&lt;pad&gt;&lt;pad&gt;&lt;pad&gt;&lt;pad&gt;&lt;pad&gt;&lt;pad&gt;&lt;pad&gt;&lt;pad&gt;&lt;pad&gt;&lt;pad&gt;&lt;pad&gt;&lt;pad&gt;&lt;pad&gt;&lt;pad&gt;&lt;pad&gt;&lt;pad&gt;&lt;pad&gt;&lt;pad&gt;&lt;pad&gt;&lt;pad&gt;&lt;pad&gt;&lt;pad&gt;&lt;pad&gt;&lt;pad&gt;&lt;pad&gt;&lt;pad&gt;&lt;pad&gt;&lt;pad&gt;&lt;pad&gt;&lt;pad&gt;&lt;pad&gt;&lt;pad&gt;&lt;pad&gt;&lt;pad&gt;&lt;pad&gt;&lt;pad&gt;&lt;pad&gt;&lt;pad&gt;&lt;pad&gt;&lt;pad&gt;&lt;pad&gt;&lt;pad&gt;&lt;pad&gt;&lt;pad&gt;&lt;pad&gt;&lt;pad&gt;&lt;pad&gt;&lt;pad&gt;&lt;pad&gt;&lt;pad&gt;&lt;pad&gt;&lt;pad&gt;&lt;pad&gt;&lt;pad&gt;&lt;pad&gt;&lt;pad&gt;&lt;pad&gt;&lt;pad&gt;&lt;pad&gt;&lt;pad&gt;&lt;pad&gt;&lt;pad&gt;&lt;pad&gt;&lt;pad&gt;&lt;pad&gt;&lt;pad&gt;&lt;pad&gt;&lt;pad&gt;&lt;pad&gt;&lt;pad&gt;&lt;pad&gt;&lt;pad&gt;</td>\n",
       "      <td>7</td>\n",
       "      <td>2</td>\n",
       "      <td>when was the battle of trafalgar</td>\n",
       "      <td>7_2</td>\n",
       "      <td>7_2:was influential in the development of the Schlieffen Plan in the late 19th century. For the French, this spectacular victory on land was soured by the decisive victory that the Royal Navy attained at the Battle of Trafalgar on 21 October. After Trafalgar, Britain had total domination of the seas for the duration of the Napoleonic Wars.&lt;/s&gt;&lt;pad&gt;&lt;pad&gt;&lt;pad&gt;&lt;pad&gt;&lt;pad&gt;&lt;pad&gt;&lt;pad&gt;&lt;pad&gt;&lt;pad&gt;&lt;pad&gt;&lt;pad&gt;&lt;pad&gt;&lt;pad&gt;&lt;pad&gt;&lt;pad&gt;&lt;pad&gt;&lt;pad&gt;&lt;pad&gt;&lt;pad&gt;&lt;pad&gt;&lt;pad&gt;&lt;pad&gt;&lt;pad&gt;&lt;pad&gt;&lt;pad&gt;&lt;pad&gt;&lt;pad&gt;&lt;pad&gt;&lt;pad&gt;&lt;pad&gt;&lt;pad&gt;&lt;pad&gt;&lt;pad&gt;&lt;pad&gt;&lt;pad&gt;&lt;pad&gt;&lt;pad&gt;&lt;pad&gt;&lt;pad&gt;&lt;pad&gt;&lt;pad&gt;&lt;pad&gt;&lt;pad&gt;&lt;pad&gt;&lt;pad&gt;&lt;pad&gt;&lt;pad&gt;&lt;pad&gt;&lt;pad&gt;&lt;pad&gt;&lt;pad&gt;&lt;pad&gt;&lt;pad&gt;&lt;pad&gt;&lt;pad&gt;&lt;pad&gt;&lt;pad&gt;&lt;pad&gt;&lt;pad&gt;&lt;pad&gt;&lt;pad&gt;&lt;pad&gt;&lt;pad&gt;&lt;pad&gt;&lt;pad&gt;&lt;pad&gt;&lt;pad&gt;&lt;pad&gt;&lt;pad&gt;&lt;pad&gt;&lt;pad&gt;&lt;pad&gt;&lt;pad&gt;&lt;pad&gt;&lt;pad&gt;&lt;pad&gt;&lt;pad&gt;&lt;pad&gt;&lt;pad&gt;&lt;pad&gt;&lt;pad&gt;&lt;pad&gt;&lt;pad&gt;&lt;pad&gt;&lt;pad&gt;&lt;pad&gt;&lt;pad&gt;&lt;pad&gt;&lt;pad&gt;&lt;pad&gt;&lt;pad&gt;&lt;pad&gt;&lt;pad&gt;&lt;pad&gt;&lt;pad&gt;&lt;pad&gt;&lt;pad&gt;&lt;pad&gt;&lt;pad&gt;&lt;pad&gt;&lt;pad&gt;&lt;pad&gt;&lt;pad&gt;&lt;pad&gt;&lt;pad&gt;&lt;pad&gt;&lt;pad&gt;&lt;pad&gt;&lt;pad&gt;&lt;pad&gt;&lt;pad&gt;&lt;pad&gt;&lt;pad&gt;&lt;pad&gt;&lt;pad&gt;&lt;pad&gt;&lt;pad&gt;&lt;pad&gt;&lt;pad&gt;&lt;pad&gt;&lt;pad&gt;&lt;pad&gt;</td>\n",
       "    </tr>\n",
       "    <tr>\n",
       "      <th>32</th>\n",
       "      <td>was influential in the development of the Schlieffen Plan in the late 19th century. For the French, this spectacular victory on land was soured by the decisive victory that the Royal Navy attained at the Battle of Trafalgar on 21 October. After Trafalgar, Britain had total domination of the seas for the duration of the Napoleonic Wars.&lt;/s&gt;&lt;pad&gt;&lt;pad&gt;&lt;pad&gt;&lt;pad&gt;&lt;pad&gt;&lt;pad&gt;&lt;pad&gt;&lt;pad&gt;&lt;pad&gt;&lt;pad&gt;&lt;pad&gt;&lt;pad&gt;&lt;pad&gt;&lt;pad&gt;&lt;pad&gt;&lt;pad&gt;&lt;pad&gt;&lt;pad&gt;&lt;pad&gt;&lt;pad&gt;&lt;pad&gt;&lt;pad&gt;&lt;pad&gt;&lt;pad&gt;&lt;pad&gt;&lt;pad&gt;&lt;pad&gt;&lt;pad&gt;&lt;pad&gt;&lt;pad&gt;&lt;pad&gt;&lt;pad&gt;&lt;pad&gt;&lt;pad&gt;&lt;pad&gt;&lt;pad&gt;&lt;pad&gt;&lt;pad&gt;&lt;pad&gt;&lt;pad&gt;&lt;pad&gt;&lt;pad&gt;&lt;pad&gt;&lt;pad&gt;&lt;pad&gt;&lt;pad&gt;&lt;pad&gt;&lt;pad&gt;&lt;pad&gt;&lt;pad&gt;&lt;pad&gt;&lt;pad&gt;&lt;pad&gt;&lt;pad&gt;&lt;pad&gt;&lt;pad&gt;&lt;pad&gt;&lt;pad&gt;&lt;pad&gt;&lt;pad&gt;&lt;pad&gt;&lt;pad&gt;&lt;pad&gt;&lt;pad&gt;&lt;pad&gt;&lt;pad&gt;&lt;pad&gt;&lt;pad&gt;&lt;pad&gt;&lt;pad&gt;&lt;pad&gt;&lt;pad&gt;&lt;pad&gt;&lt;pad&gt;&lt;pad&gt;&lt;pad&gt;&lt;pad&gt;&lt;pad&gt;&lt;pad&gt;&lt;pad&gt;&lt;pad&gt;&lt;pad&gt;&lt;pad&gt;&lt;pad&gt;&lt;pad&gt;&lt;pad&gt;&lt;pad&gt;&lt;pad&gt;&lt;pad&gt;&lt;pad&gt;&lt;pad&gt;&lt;pad&gt;&lt;pad&gt;&lt;pad&gt;&lt;pad&gt;&lt;pad&gt;&lt;pad&gt;&lt;pad&gt;&lt;pad&gt;&lt;pad&gt;&lt;pad&gt;&lt;pad&gt;&lt;pad&gt;&lt;pad&gt;&lt;pad&gt;&lt;pad&gt;&lt;pad&gt;&lt;pad&gt;&lt;pad&gt;&lt;pad&gt;&lt;pad&gt;&lt;pad&gt;&lt;pad&gt;&lt;pad&gt;&lt;pad&gt;&lt;pad&gt;&lt;pad&gt;&lt;pad&gt;&lt;pad&gt;&lt;pad&gt;&lt;pad&gt;&lt;pad&gt;</td>\n",
       "      <td>7</td>\n",
       "      <td>2</td>\n",
       "      <td>which event in the world is most associated with the battle of trafalgar?</td>\n",
       "      <td>7_2</td>\n",
       "      <td>7_2:was influential in the development of the Schlieffen Plan in the late 19th century. For the French, this spectacular victory on land was soured by the decisive victory that the Royal Navy attained at the Battle of Trafalgar on 21 October. After Trafalgar, Britain had total domination of the seas for the duration of the Napoleonic Wars.&lt;/s&gt;&lt;pad&gt;&lt;pad&gt;&lt;pad&gt;&lt;pad&gt;&lt;pad&gt;&lt;pad&gt;&lt;pad&gt;&lt;pad&gt;&lt;pad&gt;&lt;pad&gt;&lt;pad&gt;&lt;pad&gt;&lt;pad&gt;&lt;pad&gt;&lt;pad&gt;&lt;pad&gt;&lt;pad&gt;&lt;pad&gt;&lt;pad&gt;&lt;pad&gt;&lt;pad&gt;&lt;pad&gt;&lt;pad&gt;&lt;pad&gt;&lt;pad&gt;&lt;pad&gt;&lt;pad&gt;&lt;pad&gt;&lt;pad&gt;&lt;pad&gt;&lt;pad&gt;&lt;pad&gt;&lt;pad&gt;&lt;pad&gt;&lt;pad&gt;&lt;pad&gt;&lt;pad&gt;&lt;pad&gt;&lt;pad&gt;&lt;pad&gt;&lt;pad&gt;&lt;pad&gt;&lt;pad&gt;&lt;pad&gt;&lt;pad&gt;&lt;pad&gt;&lt;pad&gt;&lt;pad&gt;&lt;pad&gt;&lt;pad&gt;&lt;pad&gt;&lt;pad&gt;&lt;pad&gt;&lt;pad&gt;&lt;pad&gt;&lt;pad&gt;&lt;pad&gt;&lt;pad&gt;&lt;pad&gt;&lt;pad&gt;&lt;pad&gt;&lt;pad&gt;&lt;pad&gt;&lt;pad&gt;&lt;pad&gt;&lt;pad&gt;&lt;pad&gt;&lt;pad&gt;&lt;pad&gt;&lt;pad&gt;&lt;pad&gt;&lt;pad&gt;&lt;pad&gt;&lt;pad&gt;&lt;pad&gt;&lt;pad&gt;&lt;pad&gt;&lt;pad&gt;&lt;pad&gt;&lt;pad&gt;&lt;pad&gt;&lt;pad&gt;&lt;pad&gt;&lt;pad&gt;&lt;pad&gt;&lt;pad&gt;&lt;pad&gt;&lt;pad&gt;&lt;pad&gt;&lt;pad&gt;&lt;pad&gt;&lt;pad&gt;&lt;pad&gt;&lt;pad&gt;&lt;pad&gt;&lt;pad&gt;&lt;pad&gt;&lt;pad&gt;&lt;pad&gt;&lt;pad&gt;&lt;pad&gt;&lt;pad&gt;&lt;pad&gt;&lt;pad&gt;&lt;pad&gt;&lt;pad&gt;&lt;pad&gt;&lt;pad&gt;&lt;pad&gt;&lt;pad&gt;&lt;pad&gt;&lt;pad&gt;&lt;pad&gt;&lt;pad&gt;&lt;pad&gt;&lt;pad&gt;&lt;pad&gt;&lt;pad&gt;&lt;pad&gt;&lt;pad&gt;&lt;pad&gt;&lt;pad&gt;</td>\n",
       "    </tr>\n",
       "  </tbody>\n",
       "</table>\n",
       "</div>"
      ],
      "text/plain": [
       "                                                                                                                                                                                                                                                                                                                                                                                                                                                                                                                                                                                                                                                                                                                                                                                                                                                                                                                                                                                       text  \\\n",
       "24                                           By August 1805, Napoleon had realized that the strategic situation had changed fundamentally. Facing a potential invasion from his continental enemies, he decided to strike first and turned his army's sights from the English Channel to the Rhine. His basic objective was to destroy the isolated Austrian armies in Southern Germany before their Russian allies could arrive. On 25 September, after great secrecy and feverish marching, 200,000 French troops began to cross the Rhine on a front of 260 km (160 mi). Austrian commander Karl Mack had gathered the greater part of the Austrian army at the fortress of Ulm in Swabia. Napoleon swung his forces to the southeast and the Grande Armée performed an elaborate wheeling movement that outflanked the Austrian positions. The Ulm Maneuver completely surprised General Mack, who belatedly understood that his army had been cut off. After some minor engagement</s>   \n",
       "25                                           By August 1805, Napoleon had realized that the strategic situation had changed fundamentally. Facing a potential invasion from his continental enemies, he decided to strike first and turned his army's sights from the English Channel to the Rhine. His basic objective was to destroy the isolated Austrian armies in Southern Germany before their Russian allies could arrive. On 25 September, after great secrecy and feverish marching, 200,000 French troops began to cross the Rhine on a front of 260 km (160 mi). Austrian commander Karl Mack had gathered the greater part of the Austrian army at the fortress of Ulm in Swabia. Napoleon swung his forces to the southeast and the Grande Armée performed an elaborate wheeling movement that outflanked the Austrian positions. The Ulm Maneuver completely surprised General Mack, who belatedly understood that his army had been cut off. After some minor engagement</s>   \n",
       "26                                           By August 1805, Napoleon had realized that the strategic situation had changed fundamentally. Facing a potential invasion from his continental enemies, he decided to strike first and turned his army's sights from the English Channel to the Rhine. His basic objective was to destroy the isolated Austrian armies in Southern Germany before their Russian allies could arrive. On 25 September, after great secrecy and feverish marching, 200,000 French troops began to cross the Rhine on a front of 260 km (160 mi). Austrian commander Karl Mack had gathered the greater part of the Austrian army at the fortress of Ulm in Swabia. Napoleon swung his forces to the southeast and the Grande Armée performed an elaborate wheeling movement that outflanked the Austrian positions. The Ulm Maneuver completely surprised General Mack, who belatedly understood that his army had been cut off. After some minor engagement</s>   \n",
       "27                                                       Napoleon swung his forces to the southeast and the Grande Armée performed an elaborate wheeling movement that outflanked the Austrian positions. The Ulm Maneuver completely surprised General Mack, who belatedly understood that his army had been cut off. After some minor engagements that culminated in the Battle of Ulm, Mack finally surrendered after realizing that there was no way to break out of the French encirclement. For just 2000 French casualties, Napoleon had managed to capture a total of 60,000 Austrian soldiers through his army's rapid marching. The Ulm Campaign is generally regarded as a strategic masterpiece and was influential in the development of the Schlieffen Plan in the late 19th century. For the French, this spectacular victory on land was soured by the decisive victory that the Royal Navy attained at the Battle of Trafalgar on 21 October. After Trafalgar, Britain</s>   \n",
       "28                                                       Napoleon swung his forces to the southeast and the Grande Armée performed an elaborate wheeling movement that outflanked the Austrian positions. The Ulm Maneuver completely surprised General Mack, who belatedly understood that his army had been cut off. After some minor engagements that culminated in the Battle of Ulm, Mack finally surrendered after realizing that there was no way to break out of the French encirclement. For just 2000 French casualties, Napoleon had managed to capture a total of 60,000 Austrian soldiers through his army's rapid marching. The Ulm Campaign is generally regarded as a strategic masterpiece and was influential in the development of the Schlieffen Plan in the late 19th century. For the French, this spectacular victory on land was soured by the decisive victory that the Royal Navy attained at the Battle of Trafalgar on 21 October. After Trafalgar, Britain</s>   \n",
       "29                                                       Napoleon swung his forces to the southeast and the Grande Armée performed an elaborate wheeling movement that outflanked the Austrian positions. The Ulm Maneuver completely surprised General Mack, who belatedly understood that his army had been cut off. After some minor engagements that culminated in the Battle of Ulm, Mack finally surrendered after realizing that there was no way to break out of the French encirclement. For just 2000 French casualties, Napoleon had managed to capture a total of 60,000 Austrian soldiers through his army's rapid marching. The Ulm Campaign is generally regarded as a strategic masterpiece and was influential in the development of the Schlieffen Plan in the late 19th century. For the French, this spectacular victory on land was soured by the decisive victory that the Royal Navy attained at the Battle of Trafalgar on 21 October. After Trafalgar, Britain</s>   \n",
       "30  was influential in the development of the Schlieffen Plan in the late 19th century. For the French, this spectacular victory on land was soured by the decisive victory that the Royal Navy attained at the Battle of Trafalgar on 21 October. After Trafalgar, Britain had total domination of the seas for the duration of the Napoleonic Wars.</s><pad><pad><pad><pad><pad><pad><pad><pad><pad><pad><pad><pad><pad><pad><pad><pad><pad><pad><pad><pad><pad><pad><pad><pad><pad><pad><pad><pad><pad><pad><pad><pad><pad><pad><pad><pad><pad><pad><pad><pad><pad><pad><pad><pad><pad><pad><pad><pad><pad><pad><pad><pad><pad><pad><pad><pad><pad><pad><pad><pad><pad><pad><pad><pad><pad><pad><pad><pad><pad><pad><pad><pad><pad><pad><pad><pad><pad><pad><pad><pad><pad><pad><pad><pad><pad><pad><pad><pad><pad><pad><pad><pad><pad><pad><pad><pad><pad><pad><pad><pad><pad><pad><pad><pad><pad><pad><pad><pad><pad><pad><pad><pad><pad><pad><pad><pad><pad><pad><pad><pad><pad><pad>   \n",
       "31  was influential in the development of the Schlieffen Plan in the late 19th century. For the French, this spectacular victory on land was soured by the decisive victory that the Royal Navy attained at the Battle of Trafalgar on 21 October. After Trafalgar, Britain had total domination of the seas for the duration of the Napoleonic Wars.</s><pad><pad><pad><pad><pad><pad><pad><pad><pad><pad><pad><pad><pad><pad><pad><pad><pad><pad><pad><pad><pad><pad><pad><pad><pad><pad><pad><pad><pad><pad><pad><pad><pad><pad><pad><pad><pad><pad><pad><pad><pad><pad><pad><pad><pad><pad><pad><pad><pad><pad><pad><pad><pad><pad><pad><pad><pad><pad><pad><pad><pad><pad><pad><pad><pad><pad><pad><pad><pad><pad><pad><pad><pad><pad><pad><pad><pad><pad><pad><pad><pad><pad><pad><pad><pad><pad><pad><pad><pad><pad><pad><pad><pad><pad><pad><pad><pad><pad><pad><pad><pad><pad><pad><pad><pad><pad><pad><pad><pad><pad><pad><pad><pad><pad><pad><pad><pad><pad><pad><pad><pad><pad>   \n",
       "32  was influential in the development of the Schlieffen Plan in the late 19th century. For the French, this spectacular victory on land was soured by the decisive victory that the Royal Navy attained at the Battle of Trafalgar on 21 October. After Trafalgar, Britain had total domination of the seas for the duration of the Napoleonic Wars.</s><pad><pad><pad><pad><pad><pad><pad><pad><pad><pad><pad><pad><pad><pad><pad><pad><pad><pad><pad><pad><pad><pad><pad><pad><pad><pad><pad><pad><pad><pad><pad><pad><pad><pad><pad><pad><pad><pad><pad><pad><pad><pad><pad><pad><pad><pad><pad><pad><pad><pad><pad><pad><pad><pad><pad><pad><pad><pad><pad><pad><pad><pad><pad><pad><pad><pad><pad><pad><pad><pad><pad><pad><pad><pad><pad><pad><pad><pad><pad><pad><pad><pad><pad><pad><pad><pad><pad><pad><pad><pad><pad><pad><pad><pad><pad><pad><pad><pad><pad><pad><pad><pad><pad><pad><pad><pad><pad><pad><pad><pad><pad><pad><pad><pad><pad><pad><pad><pad><pad><pad><pad><pad>   \n",
       "\n",
       "    doc  chunk  \\\n",
       "24    7      0   \n",
       "25    7      0   \n",
       "26    7      0   \n",
       "27    7      1   \n",
       "28    7      1   \n",
       "29    7      1   \n",
       "30    7      2   \n",
       "31    7      2   \n",
       "32    7      2   \n",
       "\n",
       "                                                                        ec_query_txt  \\\n",
       "24                                                    why did the ulm maneuver occur   \n",
       "25                   what was napoleon's objective in fighting the austrianian army?   \n",
       "26  which strategic advance by napoleon was an example of the grande armee maneuver?   \n",
       "27                                                         what was the ulm maneuver   \n",
       "28                                       what was the ulm maneuver, when did it end?   \n",
       "29                            what was the result of napoleon's invasion of austria?   \n",
       "30                                                      why did trafalgar take place   \n",
       "31                                                  when was the battle of trafalgar   \n",
       "32         which event in the world is most associated with the battle of trafalgar?   \n",
       "\n",
       "   _index  \\\n",
       "24    7_0   \n",
       "25    7_0   \n",
       "26    7_0   \n",
       "27    7_1   \n",
       "28    7_1   \n",
       "29    7_1   \n",
       "30    7_2   \n",
       "31    7_2   \n",
       "32    7_2   \n",
       "\n",
       "                                                                                                                                                                                                                                                                                                                                                                                                                                                                                                                                                                                                                                                                                                                                                                                                                                                                                                                                                                                        passage  \n",
       "24                                           7_0:By August 1805, Napoleon had realized that the strategic situation had changed fundamentally. Facing a potential invasion from his continental enemies, he decided to strike first and turned his army's sights from the English Channel to the Rhine. His basic objective was to destroy the isolated Austrian armies in Southern Germany before their Russian allies could arrive. On 25 September, after great secrecy and feverish marching, 200,000 French troops began to cross the Rhine on a front of 260 km (160 mi). Austrian commander Karl Mack had gathered the greater part of the Austrian army at the fortress of Ulm in Swabia. Napoleon swung his forces to the southeast and the Grande Armée performed an elaborate wheeling movement that outflanked the Austrian positions. The Ulm Maneuver completely surprised General Mack, who belatedly understood that his army had been cut off. After some minor engagement</s>  \n",
       "25                                           7_0:By August 1805, Napoleon had realized that the strategic situation had changed fundamentally. Facing a potential invasion from his continental enemies, he decided to strike first and turned his army's sights from the English Channel to the Rhine. His basic objective was to destroy the isolated Austrian armies in Southern Germany before their Russian allies could arrive. On 25 September, after great secrecy and feverish marching, 200,000 French troops began to cross the Rhine on a front of 260 km (160 mi). Austrian commander Karl Mack had gathered the greater part of the Austrian army at the fortress of Ulm in Swabia. Napoleon swung his forces to the southeast and the Grande Armée performed an elaborate wheeling movement that outflanked the Austrian positions. The Ulm Maneuver completely surprised General Mack, who belatedly understood that his army had been cut off. After some minor engagement</s>  \n",
       "26                                           7_0:By August 1805, Napoleon had realized that the strategic situation had changed fundamentally. Facing a potential invasion from his continental enemies, he decided to strike first and turned his army's sights from the English Channel to the Rhine. His basic objective was to destroy the isolated Austrian armies in Southern Germany before their Russian allies could arrive. On 25 September, after great secrecy and feverish marching, 200,000 French troops began to cross the Rhine on a front of 260 km (160 mi). Austrian commander Karl Mack had gathered the greater part of the Austrian army at the fortress of Ulm in Swabia. Napoleon swung his forces to the southeast and the Grande Armée performed an elaborate wheeling movement that outflanked the Austrian positions. The Ulm Maneuver completely surprised General Mack, who belatedly understood that his army had been cut off. After some minor engagement</s>  \n",
       "27                                                       7_1:Napoleon swung his forces to the southeast and the Grande Armée performed an elaborate wheeling movement that outflanked the Austrian positions. The Ulm Maneuver completely surprised General Mack, who belatedly understood that his army had been cut off. After some minor engagements that culminated in the Battle of Ulm, Mack finally surrendered after realizing that there was no way to break out of the French encirclement. For just 2000 French casualties, Napoleon had managed to capture a total of 60,000 Austrian soldiers through his army's rapid marching. The Ulm Campaign is generally regarded as a strategic masterpiece and was influential in the development of the Schlieffen Plan in the late 19th century. For the French, this spectacular victory on land was soured by the decisive victory that the Royal Navy attained at the Battle of Trafalgar on 21 October. After Trafalgar, Britain</s>  \n",
       "28                                                       7_1:Napoleon swung his forces to the southeast and the Grande Armée performed an elaborate wheeling movement that outflanked the Austrian positions. The Ulm Maneuver completely surprised General Mack, who belatedly understood that his army had been cut off. After some minor engagements that culminated in the Battle of Ulm, Mack finally surrendered after realizing that there was no way to break out of the French encirclement. For just 2000 French casualties, Napoleon had managed to capture a total of 60,000 Austrian soldiers through his army's rapid marching. The Ulm Campaign is generally regarded as a strategic masterpiece and was influential in the development of the Schlieffen Plan in the late 19th century. For the French, this spectacular victory on land was soured by the decisive victory that the Royal Navy attained at the Battle of Trafalgar on 21 October. After Trafalgar, Britain</s>  \n",
       "29                                                       7_1:Napoleon swung his forces to the southeast and the Grande Armée performed an elaborate wheeling movement that outflanked the Austrian positions. The Ulm Maneuver completely surprised General Mack, who belatedly understood that his army had been cut off. After some minor engagements that culminated in the Battle of Ulm, Mack finally surrendered after realizing that there was no way to break out of the French encirclement. For just 2000 French casualties, Napoleon had managed to capture a total of 60,000 Austrian soldiers through his army's rapid marching. The Ulm Campaign is generally regarded as a strategic masterpiece and was influential in the development of the Schlieffen Plan in the late 19th century. For the French, this spectacular victory on land was soured by the decisive victory that the Royal Navy attained at the Battle of Trafalgar on 21 October. After Trafalgar, Britain</s>  \n",
       "30  7_2:was influential in the development of the Schlieffen Plan in the late 19th century. For the French, this spectacular victory on land was soured by the decisive victory that the Royal Navy attained at the Battle of Trafalgar on 21 October. After Trafalgar, Britain had total domination of the seas for the duration of the Napoleonic Wars.</s><pad><pad><pad><pad><pad><pad><pad><pad><pad><pad><pad><pad><pad><pad><pad><pad><pad><pad><pad><pad><pad><pad><pad><pad><pad><pad><pad><pad><pad><pad><pad><pad><pad><pad><pad><pad><pad><pad><pad><pad><pad><pad><pad><pad><pad><pad><pad><pad><pad><pad><pad><pad><pad><pad><pad><pad><pad><pad><pad><pad><pad><pad><pad><pad><pad><pad><pad><pad><pad><pad><pad><pad><pad><pad><pad><pad><pad><pad><pad><pad><pad><pad><pad><pad><pad><pad><pad><pad><pad><pad><pad><pad><pad><pad><pad><pad><pad><pad><pad><pad><pad><pad><pad><pad><pad><pad><pad><pad><pad><pad><pad><pad><pad><pad><pad><pad><pad><pad><pad><pad><pad><pad>  \n",
       "31  7_2:was influential in the development of the Schlieffen Plan in the late 19th century. For the French, this spectacular victory on land was soured by the decisive victory that the Royal Navy attained at the Battle of Trafalgar on 21 October. After Trafalgar, Britain had total domination of the seas for the duration of the Napoleonic Wars.</s><pad><pad><pad><pad><pad><pad><pad><pad><pad><pad><pad><pad><pad><pad><pad><pad><pad><pad><pad><pad><pad><pad><pad><pad><pad><pad><pad><pad><pad><pad><pad><pad><pad><pad><pad><pad><pad><pad><pad><pad><pad><pad><pad><pad><pad><pad><pad><pad><pad><pad><pad><pad><pad><pad><pad><pad><pad><pad><pad><pad><pad><pad><pad><pad><pad><pad><pad><pad><pad><pad><pad><pad><pad><pad><pad><pad><pad><pad><pad><pad><pad><pad><pad><pad><pad><pad><pad><pad><pad><pad><pad><pad><pad><pad><pad><pad><pad><pad><pad><pad><pad><pad><pad><pad><pad><pad><pad><pad><pad><pad><pad><pad><pad><pad><pad><pad><pad><pad><pad><pad><pad><pad>  \n",
       "32  7_2:was influential in the development of the Schlieffen Plan in the late 19th century. For the French, this spectacular victory on land was soured by the decisive victory that the Royal Navy attained at the Battle of Trafalgar on 21 October. After Trafalgar, Britain had total domination of the seas for the duration of the Napoleonic Wars.</s><pad><pad><pad><pad><pad><pad><pad><pad><pad><pad><pad><pad><pad><pad><pad><pad><pad><pad><pad><pad><pad><pad><pad><pad><pad><pad><pad><pad><pad><pad><pad><pad><pad><pad><pad><pad><pad><pad><pad><pad><pad><pad><pad><pad><pad><pad><pad><pad><pad><pad><pad><pad><pad><pad><pad><pad><pad><pad><pad><pad><pad><pad><pad><pad><pad><pad><pad><pad><pad><pad><pad><pad><pad><pad><pad><pad><pad><pad><pad><pad><pad><pad><pad><pad><pad><pad><pad><pad><pad><pad><pad><pad><pad><pad><pad><pad><pad><pad><pad><pad><pad><pad><pad><pad><pad><pad><pad><pad><pad><pad><pad><pad><pad><pad><pad><pad><pad><pad><pad><pad><pad><pad>  "
      ]
     },
     "execution_count": 12,
     "metadata": {},
     "output_type": "execute_result"
    }
   ],
   "source": [
    "train_df[train_df['doc']==7]"
   ]
  },
  {
   "cell_type": "markdown",
   "metadata": {},
   "source": [
    "### Train Information Retreival model using Augmented (Query , chunk) inputs  \n",
    "###### NOTE: using 1 epoch for demo, should be >1"
   ]
  },
  {
   "cell_type": "code",
   "execution_count": 6,
   "metadata": {},
   "outputs": [
    {
     "name": "stderr",
     "output_type": "stream",
     "text": [
      "INFO:__main__:building model\n",
      "Some weights of MPNetModel were not initialized from the model checkpoint at microsoft/mpnet-base and are newly initialized: ['mpnet.pooler.dense.weight', 'mpnet.pooler.dense.bias']\n",
      "You should probably TRAIN this model on a down-stream task to be able to use it for predictions and inference.\n",
      "INFO:sentence_transformers.SentenceTransformer:Use pytorch device: cuda\n",
      "Iteration: 100%|██████████| 778/778 [12:13<00:00,  1.06it/s]\n",
      "Epoch: 100%|██████████| 1/1 [12:13<00:00, 733.96s/it]\n",
      "INFO:sentence_transformers.SentenceTransformer:Save model to C:\\Users\\zjc10\\Desktop\\Projects\\data\\semantic_search\\models\\fine_tuned_biencoder\n",
      "INFO:sentence_transformers.SentenceTransformer:Load pretrained SentenceTransformer: C:\\Users\\zjc10\\Desktop\\Projects\\data\\semantic_search\\models\\fine_tuned_biencoder\n"
     ]
    },
    {
     "data": {
      "text/plain": [
       "SentenceTransformer(\n",
       "  (0): Transformer({'max_seq_length': 512, 'do_lower_case': False}) with Transformer model: MPNetModel \n",
       "  (1): Pooling({'word_embedding_dimension': 768, 'pooling_mode_cls_token': False, 'pooling_mode_mean_tokens': True, 'pooling_mode_max_tokens': False, 'pooling_mode_mean_sqrt_len_tokens': False})\n",
       ")"
      ]
     },
     "execution_count": 6,
     "metadata": {},
     "output_type": "execute_result"
    }
   ],
   "source": [
    "#build and train the bi-encoder to be used for asymetric search (information retrieval)\n",
    "#the trained model will encode passages into embeddings that are trained to be queried via short questions (as oppposed to just blindly taking the cossime between a short a long seq of text)\n",
    "logger.info('building model')\n",
    "ir_model  = build_model(pairs\n",
    "                    , BI_ENCODER_MODEL_NAME\n",
    "                    , str(MODEL_SAVE_DIR / 'fine_tuned_biencoder')\n",
    "                    , epochs=EPOCHS\n",
    "                    , batch_size = BI_ENCODER_BATCH_SIZE\n",
    "                    )\n",
    "\n",
    "del ir_model\n",
    "#build index to encode a fast query trained asyemetric embeddings\n",
    "ir_model = load_model(str(MODEL_SAVE_DIR / 'fine_tuned_biencoder'), DEVICE)\n",
    "ir_model.eval()"
   ]
  },
  {
   "cell_type": "markdown",
   "metadata": {},
   "source": [
    "### Create FAISS INDEX WITH PRE-TRAINED BI-ENCODER and optinal CROSS ENCODER FOR FINE TUNING RESULTS\n",
    "\n",
    "##### Note: using basic flat l2 indexing approach (aka brute force), updating to quantized implementation will speed up querying for large datasets"
   ]
  },
  {
   "cell_type": "code",
   "execution_count": 16,
   "metadata": {},
   "outputs": [
    {
     "name": "stderr",
     "output_type": "stream",
     "text": [
      "INFO:sentence_transformers.cross_encoder.CrossEncoder:Use pytorch device: cuda\n",
      "Batches: 100%|██████████| 41/41 [00:50<00:00,  1.24s/it]\n"
     ]
    }
   ],
   "source": [
    "#create passage embeddings using the  new fine tuned bi - encoder\n",
    "#define index object parameters\n",
    "f_idx = faiss_index(train_df[['_index','passage']].drop_duplicates().reset_index(drop=True) #df\n",
    "                    , ir_model #model\n",
    "                    , ir_model[1].word_embedding_dimension\n",
    "                    , text_col = 'passage'\n",
    "                    , id_col = '_index'\n",
    "                    , index_outpath = INDEX_SAVE_DIR\n",
    "                    , cross_encoder_model_name = CROSS_ENCODER_MODEL_NAME\n",
    "                    )\n",
    "#create index\n",
    "index_outp , data_outp, id_outp = f_idx.create_index()"
   ]
  },
  {
   "cell_type": "markdown",
   "metadata": {},
   "source": [
    "##### Query FAISS INDEX without use of autoencoder"
   ]
  },
  {
   "cell_type": "code",
   "execution_count": 16,
   "metadata": {},
   "outputs": [
    {
     "ename": "NameError",
     "evalue": "name 'f_idx' is not defined",
     "output_type": "error",
     "traceback": [
      "\u001b[1;31m---------------------------------------------------------------------------\u001b[0m",
      "\u001b[1;31mNameError\u001b[0m                                 Traceback (most recent call last)",
      "Cell \u001b[1;32mIn[16], line 3\u001b[0m\n\u001b[0;32m      1\u001b[0m \u001b[39m#search index \u001b[39;00m\n\u001b[0;32m      2\u001b[0m query_ \u001b[39m=\u001b[39m \u001b[39m'\u001b[39m\u001b[39mwho is the king of pop?\u001b[39m\u001b[39m'\u001b[39m\n\u001b[1;32m----> 3\u001b[0m results \u001b[39m=\u001b[39m f_idx\u001b[39m.\u001b[39msearch(query_,\u001b[39m10\u001b[39m, refine_with_crossencoder\u001b[39m=\u001b[39m\u001b[39mFalse\u001b[39;00m)\n",
      "\u001b[1;31mNameError\u001b[0m: name 'f_idx' is not defined"
     ]
    }
   ],
   "source": [
    "#search index \n",
    "query_ = 'who is the king of pop?'\n",
    "results = f_idx.search(query_,10, refine_with_crossencoder=False)\n"
   ]
  },
  {
   "cell_type": "code",
   "execution_count": 19,
   "metadata": {},
   "outputs": [
    {
     "name": "stderr",
     "output_type": "stream",
     "text": [
      "Batches: 100%|██████████| 1/1 [00:00<00:00, 60.56it/s]\n"
     ]
    },
    {
     "name": "stdout",
     "output_type": "stream",
     "text": [
      ">>>> Results in Total Time: 0.0260775089263916\n",
      "(array([[3.549967 , 3.5291357, 3.4253078, 3.2928545, 3.2901855, 3.159152 ,\n",
      "        3.089158 , 3.0736406, 3.0254188, 3.0220432]], dtype=float32), array([[226, 259, 162, 625, 514, 421, 835, 258, 225, 690]], dtype=int64))\n",
      "[162, 225, 226, 258, 259, 421, 514, 625, 690, 835]\n",
      "[3.549967050552368, 3.5291357040405273, 3.4253077507019043, 3.2928545475006104, 3.2901854515075684, 3.159152030944824, 3.089158058166504, 3.0736405849456787, 3.025418758392334, 3.022043228149414]\n",
      "{'125_0': {'text': '125_0:In Evita (1996), Madonna played the title role of Eva Perón. For a long time, Madonna had desired to play Perón and wrote to director Alan Parker to explain why she would be perfect for the part. She said later, \"This is the role I was born to play. I put everything of me into this because it was much more than a role in a movie. It was exhilarating and intimidating at the same time..... And I am prouder of Evita than anything else I have done.\" After securing the role, she had vocal training and learned about the history of Argentina and Perón. During shooting she became ill several times due to the intense emotional effort required. However, as she told Oprah, she was also pregnant during the filming: \"I was winded after every take. I had to lie on the couch every ten minutes so I could recover from dizzy spell</s>', 'score': 3.549967050552368}}\n",
      "{'177_0': {'text': '177_0:Various music journalists, critical theorists, and authors have deemed Madonna the most influential female recording artist of all time. Author Carol Clerk wrote that \"during her career, Madonna has transcended the term \\'pop star\\' to become a global cultural icon.\" Rolling Stone of Spain wrote that \"She became the first viral Master of Pop in history, years before the Internet was massively used. Madonna was everywhere; in the almighty music television channels, \\'radio formulas\\', magazine covers and even in bookshops. A pop dialectic, never seen since The Beatles\\'s reign, which allowed her to keep on the edge of tendency and commerciality.\" Laura Barcella in her book Madonna and Me: Women Writers on the Queen of Pop (2012) wrote that \"really, Madonna changed everything the musical landscape, the \\'80s look du jour, and most significantly, what a mainstream</s>', 'score': 3.5291357040405273}}\n",
      "{'177_1': {'text': '177_1:edge of tendency and commerciality.\" Laura Barcella in her book Madonna and Me: Women Writers on the Queen of Pop (2012) wrote that \"really, Madonna changed everything the musical landscape, the \\'80s look du jour, and most significantly, what a mainstream female pop star could (and couldn\\'t) say, do, or accomplish in the public eye.\" William Langley from The Daily Telegraph felt that \"Madonna has changed the world\\'s social history, has done more things as more different people than anyone else is ever likely to.\" Alan McGee from The Guardian felt that Madonna is a post-modern art, the likes of which we will never see again. He further asserted that Madonna and Michael Jackson invented the terms Queen and King of Pop.</s><pad><pad><pad><pad><pad><pad><pad><pad><pad><pad><pad><pad><pad><pad><pad><pad><pad><pad><pad><pad><pad><pad><pad><pad><pad><pad><pad><pad><pad>', 'score': 3.4253077507019043}}\n",
      "{'203_0': {'text': '203_0:According to Tony Sclafani from MSNBC, \"It\\'s worth noting that before Madonna, most music mega-stars were guy rockers; after her, almost all would be female singers... When The Beatles hit America, they changed the paradigm of performer from solo act to band. Madonna changed it back—with an emphasis on the female.\" Howard Kramer, curatorial director of the Rock and Roll Hall of Fame and Museum, asserted that \"Madonna and the career she carved out for herself made possible virtually every other female pop singer to follow... She certainly raised the standards of all of them... She redefined what the parameters were for female performers.\" According to Fouz-Hernández, subsequent female singers such as Britney Spears, Christina Aguilera, Kylie Minogue, the Spice Girls, Destiny\\'s Child, Jennifer Lopez, and Pink were</s>', 'score': 3.2928545475006104}}\n",
      "{'203_1': {'text': '203_1:redefined what the parameters were for female performers.\" According to Fouz-Hernández, subsequent female singers such as Britney Spears, Christina Aguilera, Kylie Minogue, the Spice Girls, Destiny\\'s Child, Jennifer Lopez, and Pink were like her \"daughters in the very direct sense that they grew up listening to and admiring Madonna, and decided they wanted to be like her.\" Time magazine included her in the list of the \"25 Most Powerful Women of the Past Century\", where she became one of only two singers to be included, alongside Aretha Franklin. She also topped VH1\\'s lists of \"100 Greatest Women in Music\" and \"50 Greatest Women of the Video Era\".</s><pad><pad><pad><pad><pad><pad><pad><pad><pad><pad><pad><pad><pad><pad><pad><pad><pad><pad><pad><pad><pad><pad><pad><pad><pad><pad><pad><pad><pad><pad><pad><pad><pad><pad><pad><pad>', 'score': 3.2901854515075684}}\n",
      "{'320_0': {'text': '320_0:The feminism and female empowerment themes on Beyoncé\\'s second solo album B\\'Day were inspired by her role in Dreamgirls and by singer Josephine Baker. Beyoncé paid homage to Baker by performing \"Déjà Vu\" at the 2006 Fashion Rocks concert wearing Baker\\'s trademark mini-hula skirt embellished with fake bananas. Beyoncé\\'s third solo album I Am... Sasha Fierce was inspired by Jay Z and especially by Etta James, whose \"boldness\" inspired Beyoncé to explore other musical genres and styles. Her fourth solo album, 4, was inspired by Fela Kuti, 1990s R&B, Earth, Wind & Fire, DeBarge, Lionel Richie, Teena Marie with additional influences by The Jackson 5, New Edition, Adele, Florence and the Machine,</s>', 'score': 3.159152030944824}}\n",
      "{'386_1': {'text': '386_1:became her best-selling studio album of her career to this date with sales of 25 million. In the same year, Madonna starred in the critically panned film Shanghai Surprise, for which she was awarded the Golden Raspberry Award for \"worst actress\". She made her theatrical debut in a production of David Rabe\\'s Goose and Tom-Tom; the film and play both co-starred Penn. The next year, Madonna was featured in the film Who\\'s That Girl. She contributed four songs to its soundtrack, including the title track and \"Causing a Commotion\".</s><pad><pad><pad><pad><pad><pad><pad><pad><pad><pad><pad><pad><pad><pad><pad><pad><pad><pad><pad><pad><pad><pad><pad><pad><pad><pad><pad><pad><pad><pad><pad><pad><pad><pad><pad><pad><pad><pad><pad><pad><pad><pad><pad><pad><pad><pad><pad><pad><pad><pad><pad><pad><pad><pad><pad><pad><pad><pad><pad><pad><pad><pad><pad><pad><pad><pad><pad><pad><pad><pad><pad><pad>', 'score': 3.089158058166504}}\n",
      "{'469_1': {'text': '469_1:sion in 1936, King George VI and his consort, Queen Elizabeth, allowed the hemline of daytime skirts to rise. Today, there is no official dress code. Most men invited to Buckingham Palace in the daytime choose to wear service uniform or lounge suits; a minority wear morning coats, and in the evening, depending on the formality of the occasion, black tie or white tie.</s><pad><pad><pad><pad><pad><pad><pad><pad><pad><pad><pad><pad><pad><pad><pad><pad><pad><pad><pad><pad><pad><pad><pad><pad><pad><pad><pad><pad><pad><pad><pad><pad><pad><pad><pad><pad><pad><pad><pad><pad><pad><pad><pad><pad><pad><pad><pad><pad><pad><pad><pad><pad><pad><pad><pad><pad><pad><pad><pad><pad><pad><pad><pad><pad><pad><pad><pad><pad><pad><pad><pad><pad><pad><pad><pad><pad><pad><pad><pad><pad><pad><pad><pad><pad><pad><pad><pad><pad><pad><pad><pad><pad><pad><pad><pad><pad><pad><pad><pad><pad><pad><pad><pad><pad><pad><pad><pad><pad><pad><pad><pad><pad><pad><pad>', 'score': 3.0736405849456787}}\n",
      "{'516_0': {'text': '516_0:The term prime minister in the sense that we know it originated in the 18th century in the United Kingdom when members of parliament disparagingly used the title in reference to Sir Robert Walpole. Over time, the title became honorific and remains so in the 21st century.</s><pad><pad><pad><pad><pad><pad><pad><pad><pad><pad><pad><pad><pad><pad><pad><pad><pad><pad><pad><pad><pad><pad><pad><pad><pad><pad><pad><pad><pad><pad><pad><pad><pad><pad><pad><pad><pad><pad><pad><pad><pad><pad><pad><pad><pad><pad><pad><pad><pad><pad><pad><pad><pad><pad><pad><pad><pad><pad><pad><pad><pad><pad><pad><pad><pad><pad><pad><pad><pad><pad><pad><pad><pad><pad><pad><pad><pad><pad><pad><pad><pad><pad><pad><pad><pad><pad><pad><pad><pad><pad><pad><pad><pad><pad><pad><pad><pad><pad><pad><pad><pad><pad><pad><pad><pad><pad><pad><pad><pad><pad><pad><pad><pad><pad><pad><pad><pad><pad><pad><pad><pad><pad><pad><pad><pad><pad><pad><pad><pad><pad><pad><pad><pad><pad><pad><pad><pad><pad><pad><pad><pad><pad>', 'score': 3.025418758392334}}\n",
      "{'630_0': {'text': '630_0:In mid-2004 Madonna embarked on the Re-Invention World Tour in the U.S., Canada, and Europe. It became the highest-grossing tour of 2004, earning around $120 million and became the subject of her documentary I\\'m Going to Tell You a Secret. In November 2004, she was inducted into the UK Music Hall of Fame as one of its five founding members, along with The Beatles, Elvis Presley, Bob Marley, and U2. In January 2005, Madonna performed a cover version of the John Lennon song \"Imagine\" at Tsunami Aid. She also performed at the Live 8 benefit concert in London in July 2005.</s><pad><pad><pad><pad><pad><pad><pad><pad><pad><pad><pad><pad><pad><pad><pad><pad><pad><pad><pad><pad><pad><pad><pad><pad><pad><pad><pad><pad><pad><pad><pad><pad><pad><pad><pad><pad><pad><pad><pad><pad><pad><pad><pad><pad><pad><pad><pad><pad><pad><pad><pad><pad>', 'score': 3.022043228149414}}\n"
     ]
    },
    {
     "name": "stderr",
     "output_type": "stream",
     "text": [
      "Batches: 100%|██████████| 1/1 [00:00<00:00, 73.91it/s]\n"
     ]
    },
    {
     "data": {
      "text/plain": [
       "[(-10.946937,\n",
       "  '\\t177_0:Various music journalists, critical theorists, and authors have deemed Madonna the most influential female recording artist of all time. Author Carol Clerk wrote that \"during her career, Madonna has transcended the term \\'pop star\\' to become a global cultural icon.\" Rolling Stone of Spain wrote that \"She became the first viral Master of Pop in history, years before the Internet was massively used. Madonna was everywhere; in the almighty music television channels, \\'radio formulas\\', magazine covers and even in bookshops. A pop dialectic, never seen since The Beatles\\'s reign, which allowed her to keep on the edge of tendency and commerciality.\" Laura Barcella in her book Madonna and Me: Women Writers on the Queen of Pop (2012) wrote that \"really, Madonna changed everything the musical landscape, the \\'80s look du jour, and most significantly, what a mainstream</s>'),\n",
       " (-11.169013,\n",
       "  '\\t469_1:sion in 1936, King George VI and his consort, Queen Elizabeth, allowed the hemline of daytime skirts to rise. Today, there is no official dress code. Most men invited to Buckingham Palace in the daytime choose to wear service uniform or lounge suits; a minority wear morning coats, and in the evening, depending on the formality of the occasion, black tie or white tie.</s><pad><pad><pad><pad><pad><pad><pad><pad><pad><pad><pad><pad><pad><pad><pad><pad><pad><pad><pad><pad><pad><pad><pad><pad><pad><pad><pad><pad><pad><pad><pad><pad><pad><pad><pad><pad><pad><pad><pad><pad><pad><pad><pad><pad><pad><pad><pad><pad><pad><pad><pad><pad><pad><pad><pad><pad><pad><pad><pad><pad><pad><pad><pad><pad><pad><pad><pad><pad><pad><pad><pad><pad><pad><pad><pad><pad><pad><pad><pad><pad><pad><pad><pad><pad><pad><pad><pad><pad><pad><pad><pad><pad><pad><pad><pad><pad><pad><pad><pad><pad><pad><pad><pad><pad><pad><pad><pad><pad><pad><pad><pad><pad><pad><pad>'),\n",
       " (-11.208147,\n",
       "  '\\t320_0:The feminism and female empowerment themes on Beyoncé\\'s second solo album B\\'Day were inspired by her role in Dreamgirls and by singer Josephine Baker. Beyoncé paid homage to Baker by performing \"Déjà Vu\" at the 2006 Fashion Rocks concert wearing Baker\\'s trademark mini-hula skirt embellished with fake bananas. Beyoncé\\'s third solo album I Am... Sasha Fierce was inspired by Jay Z and especially by Etta James, whose \"boldness\" inspired Beyoncé to explore other musical genres and styles. Her fourth solo album, 4, was inspired by Fela Kuti, 1990s R&B, Earth, Wind & Fire, DeBarge, Lionel Richie, Teena Marie with additional influences by The Jackson 5, New Edition, Adele, Florence and the Machine,</s>'),\n",
       " (-11.224339,\n",
       "  '\\t177_1:edge of tendency and commerciality.\" Laura Barcella in her book Madonna and Me: Women Writers on the Queen of Pop (2012) wrote that \"really, Madonna changed everything the musical landscape, the \\'80s look du jour, and most significantly, what a mainstream female pop star could (and couldn\\'t) say, do, or accomplish in the public eye.\" William Langley from The Daily Telegraph felt that \"Madonna has changed the world\\'s social history, has done more things as more different people than anyone else is ever likely to.\" Alan McGee from The Guardian felt that Madonna is a post-modern art, the likes of which we will never see again. He further asserted that Madonna and Michael Jackson invented the terms Queen and King of Pop.</s><pad><pad><pad><pad><pad><pad><pad><pad><pad><pad><pad><pad><pad><pad><pad><pad><pad><pad><pad><pad><pad><pad><pad><pad><pad><pad><pad><pad><pad>'),\n",
       " (-11.277255,\n",
       "  '\\t203_0:According to Tony Sclafani from MSNBC, \"It\\'s worth noting that before Madonna, most music mega-stars were guy rockers; after her, almost all would be female singers... When The Beatles hit America, they changed the paradigm of performer from solo act to band. Madonna changed it back—with an emphasis on the female.\" Howard Kramer, curatorial director of the Rock and Roll Hall of Fame and Museum, asserted that \"Madonna and the career she carved out for herself made possible virtually every other female pop singer to follow... She certainly raised the standards of all of them... She redefined what the parameters were for female performers.\" According to Fouz-Hernández, subsequent female singers such as Britney Spears, Christina Aguilera, Kylie Minogue, the Spice Girls, Destiny\\'s Child, Jennifer Lopez, and Pink were</s>'),\n",
       " (-11.30575,\n",
       "  '\\t203_1:redefined what the parameters were for female performers.\" According to Fouz-Hernández, subsequent female singers such as Britney Spears, Christina Aguilera, Kylie Minogue, the Spice Girls, Destiny\\'s Child, Jennifer Lopez, and Pink were like her \"daughters in the very direct sense that they grew up listening to and admiring Madonna, and decided they wanted to be like her.\" Time magazine included her in the list of the \"25 Most Powerful Women of the Past Century\", where she became one of only two singers to be included, alongside Aretha Franklin. She also topped VH1\\'s lists of \"100 Greatest Women in Music\" and \"50 Greatest Women of the Video Era\".</s><pad><pad><pad><pad><pad><pad><pad><pad><pad><pad><pad><pad><pad><pad><pad><pad><pad><pad><pad><pad><pad><pad><pad><pad><pad><pad><pad><pad><pad><pad><pad><pad><pad><pad><pad><pad>'),\n",
       " (-11.360039,\n",
       "  '\\t125_0:In Evita (1996), Madonna played the title role of Eva Perón. For a long time, Madonna had desired to play Perón and wrote to director Alan Parker to explain why she would be perfect for the part. She said later, \"This is the role I was born to play. I put everything of me into this because it was much more than a role in a movie. It was exhilarating and intimidating at the same time..... And I am prouder of Evita than anything else I have done.\" After securing the role, she had vocal training and learned about the history of Argentina and Perón. During shooting she became ill several times due to the intense emotional effort required. However, as she told Oprah, she was also pregnant during the filming: \"I was winded after every take. I had to lie on the couch every ten minutes so I could recover from dizzy spell</s>'),\n",
       " (-11.375847,\n",
       "  '\\t516_0:The term prime minister in the sense that we know it originated in the 18th century in the United Kingdom when members of parliament disparagingly used the title in reference to Sir Robert Walpole. Over time, the title became honorific and remains so in the 21st century.</s><pad><pad><pad><pad><pad><pad><pad><pad><pad><pad><pad><pad><pad><pad><pad><pad><pad><pad><pad><pad><pad><pad><pad><pad><pad><pad><pad><pad><pad><pad><pad><pad><pad><pad><pad><pad><pad><pad><pad><pad><pad><pad><pad><pad><pad><pad><pad><pad><pad><pad><pad><pad><pad><pad><pad><pad><pad><pad><pad><pad><pad><pad><pad><pad><pad><pad><pad><pad><pad><pad><pad><pad><pad><pad><pad><pad><pad><pad><pad><pad><pad><pad><pad><pad><pad><pad><pad><pad><pad><pad><pad><pad><pad><pad><pad><pad><pad><pad><pad><pad><pad><pad><pad><pad><pad><pad><pad><pad><pad><pad><pad><pad><pad><pad><pad><pad><pad><pad><pad><pad><pad><pad><pad><pad><pad><pad><pad><pad><pad><pad><pad><pad><pad><pad><pad><pad><pad><pad><pad><pad><pad><pad>'),\n",
       " (-11.399259,\n",
       "  '\\t630_0:In mid-2004 Madonna embarked on the Re-Invention World Tour in the U.S., Canada, and Europe. It became the highest-grossing tour of 2004, earning around $120 million and became the subject of her documentary I\\'m Going to Tell You a Secret. In November 2004, she was inducted into the UK Music Hall of Fame as one of its five founding members, along with The Beatles, Elvis Presley, Bob Marley, and U2. In January 2005, Madonna performed a cover version of the John Lennon song \"Imagine\" at Tsunami Aid. She also performed at the Live 8 benefit concert in London in July 2005.</s><pad><pad><pad><pad><pad><pad><pad><pad><pad><pad><pad><pad><pad><pad><pad><pad><pad><pad><pad><pad><pad><pad><pad><pad><pad><pad><pad><pad><pad><pad><pad><pad><pad><pad><pad><pad><pad><pad><pad><pad><pad><pad><pad><pad><pad><pad><pad><pad><pad><pad><pad><pad>'),\n",
       " (-11.411116,\n",
       "  '\\t386_1:became her best-selling studio album of her career to this date with sales of 25 million. In the same year, Madonna starred in the critically panned film Shanghai Surprise, for which she was awarded the Golden Raspberry Award for \"worst actress\". She made her theatrical debut in a production of David Rabe\\'s Goose and Tom-Tom; the film and play both co-starred Penn. The next year, Madonna was featured in the film Who\\'s That Girl. She contributed four songs to its soundtrack, including the title track and \"Causing a Commotion\".</s><pad><pad><pad><pad><pad><pad><pad><pad><pad><pad><pad><pad><pad><pad><pad><pad><pad><pad><pad><pad><pad><pad><pad><pad><pad><pad><pad><pad><pad><pad><pad><pad><pad><pad><pad><pad><pad><pad><pad><pad><pad><pad><pad><pad><pad><pad><pad><pad><pad><pad><pad><pad><pad><pad><pad><pad><pad><pad><pad><pad><pad><pad><pad><pad><pad><pad><pad><pad><pad><pad><pad><pad>')]"
      ]
     },
     "execution_count": 19,
     "metadata": {},
     "output_type": "execute_result"
    }
   ],
   "source": [
    "f_idx.search(query_,10, refine_with_crossencoder=True)"
   ]
  },
  {
   "cell_type": "markdown",
   "metadata": {},
   "source": [
    "##### Query FAISS INDEX with use of autoencoder"
   ]
  },
  {
   "cell_type": "code",
   "execution_count": 15,
   "metadata": {},
   "outputs": [
    {
     "ename": "NameError",
     "evalue": "name 'index_outp' is not defined",
     "output_type": "error",
     "traceback": [
      "\u001b[1;31m---------------------------------------------------------------------------\u001b[0m",
      "\u001b[1;31mNameError\u001b[0m                                 Traceback (most recent call last)",
      "Cell \u001b[1;32mIn[15], line 2\u001b[0m\n\u001b[0;32m      1\u001b[0m \u001b[39m#del f_idx \u001b[39;00m\n\u001b[1;32m----> 2\u001b[0m index_ ,data,_ids \u001b[39m=\u001b[39m faiss_index\u001b[39m.\u001b[39mload_index(index_outp, data_outp, id_outp)\n\u001b[0;32m      3\u001b[0m _ce \u001b[39m=\u001b[39m CrossEncoder(CROSS_ENCODER_MODEL_NAME)\n\u001b[0;32m      4\u001b[0m faiss_index\u001b[39m.\u001b[39mstatic_search(index_\n\u001b[0;32m      5\u001b[0m                       , ir_model\n\u001b[0;32m      6\u001b[0m                       , query_\n\u001b[1;32m   (...)\u001b[0m\n\u001b[0;32m     10\u001b[0m                       , \u001b[39m'\u001b[39m\u001b[39mpassage\u001b[39m\u001b[39m'\u001b[39m\n\u001b[0;32m     11\u001b[0m                       , _ce \u001b[39m=\u001b[39m _ce)\n",
      "\u001b[1;31mNameError\u001b[0m: name 'index_outp' is not defined"
     ]
    }
   ],
   "source": [
    "#del f_idx \n",
    "index_ ,data,_ids = faiss_index.load_index(index_outp, data_outp, id_outp)\n",
    "_ce = CrossEncoder(CROSS_ENCODER_MODEL_NAME)\n",
    "faiss_index.static_search(index_\n",
    "                      , ir_model\n",
    "                      , query_\n",
    "                      , 10 \n",
    "                      , data\n",
    "                      , '_index'\n",
    "                      , 'passage'\n",
    "                      , _ce = _ce)\n",
    "\n",
    "#del index_, data, _ids, _ce"
   ]
  },
  {
   "cell_type": "code",
   "execution_count": 13,
   "metadata": {},
   "outputs": [],
   "source": []
  },
  {
   "cell_type": "code",
   "execution_count": 14,
   "metadata": {},
   "outputs": [],
   "source": []
  },
  {
   "cell_type": "code",
   "execution_count": null,
   "metadata": {},
   "outputs": [],
   "source": []
  }
 ],
 "metadata": {
  "kernelspec": {
   "display_name": "embed_db",
   "language": "python",
   "name": "python3"
  },
  "language_info": {
   "codemirror_mode": {
    "name": "ipython",
    "version": 3
   },
   "file_extension": ".py",
   "mimetype": "text/x-python",
   "name": "python",
   "nbconvert_exporter": "python",
   "pygments_lexer": "ipython3",
   "version": "3.10.7"
  },
  "orig_nbformat": 4
 },
 "nbformat": 4,
 "nbformat_minor": 2
}
