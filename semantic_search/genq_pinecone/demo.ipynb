{
 "cells": [
  {
   "cell_type": "markdown",
   "metadata": {},
   "source": [
    "#### E2E Demo Augmented Query Geneation and Semantic Search with Cross Encoder refinement\n",
    "\n",
    "    0) Tokenization of long passages using window and stride\n",
    "    1) Unsupervised Query Generation \n",
    "    2) Fine Tuning Bi-Encoder to use for semantic search \n",
    "    3) Creation of Faiss index using bi-encoder encoded passages\n",
    "    4) Incorporation of Cross-Encoder on top of results returned from Bi-Encoder retreival "
   ]
  },
  {
   "cell_type": "code",
   "execution_count": 1,
   "metadata": {},
   "outputs": [
    {
     "name": "stderr",
     "output_type": "stream",
     "text": [
      "c:\\Users\\zjc10\\Desktop\\Projects\\envs\\embed_db\\lib\\site-packages\\tqdm\\auto.py:21: TqdmWarning: IProgress not found. Please update jupyter and ipywidgets. See https://ipywidgets.readthedocs.io/en/stable/user_install.html\n",
      "  from .autonotebook import tqdm as notebook_tqdm\n",
      "INFO:faiss.loader:Loading faiss with AVX2 support.\n",
      "INFO:faiss.loader:Could not load library with AVX2 support due to:\n",
      "ModuleNotFoundError(\"No module named 'faiss.swigfaiss_avx2'\")\n",
      "INFO:faiss.loader:Loading faiss.\n",
      "INFO:faiss.loader:Successfully loaded faiss.\n"
     ]
    }
   ],
   "source": [
    "import sys,os,logging, gc\n",
    "import pandas as pd\n",
    "from pathlib import Path\n",
    "from transformers import AutoTokenizer, T5Tokenizer,T5TokenizerFast, T5ForConditionalGeneration\n",
    "from sentence_transformers import util , CrossEncoder\n",
    "import torch \n",
    "#set up basic logging\n",
    "logging.basicConfig()\n",
    "logging.getLogger().setLevel(logging.INFO)\n",
    "logger =  logging.getLogger(__name__)\n",
    "\n",
    "#config path \n",
    "root_ = os.path.abspath(\"\")\n",
    "cfg_path = Path(root_) / \"config.yaml\"\n",
    "\n",
    "#custom imports\n",
    "sys.path.append(root_)\n",
    "from util.misc import LoadCFG, seed_all, create_output_dirs\n",
    "from util.data import load_data\n",
    "from util.embedding_ops import query_ops\n",
    "from util.model_ops import build_model , load_model\n",
    "from util.index_ops import faiss_index \n",
    "\n",
    "#set seed \n",
    "SEED = 42\n",
    "seed_all(SEED)\n"
   ]
  },
  {
   "cell_type": "markdown",
   "metadata": {},
   "source": [
    "### LOAD CONFIG PARAMETERS"
   ]
  },
  {
   "cell_type": "code",
   "execution_count": 2,
   "metadata": {},
   "outputs": [
    {
     "name": "stderr",
     "output_type": "stream",
     "text": [
      "INFO:__main__:|===========================================================================|\n",
      "|                  PyTorch CUDA memory summary, device ID 0                 |\n",
      "|---------------------------------------------------------------------------|\n",
      "|            CUDA OOMs: 0            |        cudaMalloc retries: 0         |\n",
      "|===========================================================================|\n",
      "|        Metric         | Cur Usage  | Peak Usage | Tot Alloc  | Tot Freed  |\n",
      "|---------------------------------------------------------------------------|\n",
      "| Allocated memory      |       0 B  |       0 B  |       0 B  |       0 B  |\n",
      "|---------------------------------------------------------------------------|\n",
      "| Active memory         |       0 B  |       0 B  |       0 B  |       0 B  |\n",
      "|---------------------------------------------------------------------------|\n",
      "| GPU reserved memory   |       0 B  |       0 B  |       0 B  |       0 B  |\n",
      "|---------------------------------------------------------------------------|\n",
      "| Non-releasable memory |       0 B  |       0 B  |       0 B  |       0 B  |\n",
      "|---------------------------------------------------------------------------|\n",
      "| Allocations           |       0    |       0    |       0    |       0    |\n",
      "|---------------------------------------------------------------------------|\n",
      "| Active allocs         |       0    |       0    |       0    |       0    |\n",
      "|---------------------------------------------------------------------------|\n",
      "| GPU reserved segments |       0    |       0    |       0    |       0    |\n",
      "|---------------------------------------------------------------------------|\n",
      "| Non-releasable allocs |       0    |       0    |       0    |       0    |\n",
      "|---------------------------------------------------------------------------|\n",
      "| Oversize allocations  |       0    |       0    |       0    |       0    |\n",
      "|---------------------------------------------------------------------------|\n",
      "| Oversize GPU segments |       0    |       0    |       0    |       0    |\n",
      "|===========================================================================|\n",
      "\n"
     ]
    },
    {
     "name": "stdout",
     "output_type": "stream",
     "text": [
      "File DOES exist:\n",
      "\t c:\\Users\\zjc10\\Desktop\\Projects\\code\\MyModules\\semantic_search\\genq_pinecone\\config.yaml\n"
     ]
    }
   ],
   "source": [
    "\n",
    "#load cfg params\n",
    "cfg = LoadCFG(cfg_path, base_dir = root_).load()\n",
    "DATA_PATH = cfg.data.input.data_path\n",
    "SAVE_DIR = Path(cfg.data.output.data_save_dir)\n",
    "MODEL_SAVE_DIR = Path(cfg.model.model_save_dir)\n",
    "INDEX_SAVE_DIR = Path(cfg.model.ir.faiss_index.out_dir)\n",
    "\n",
    "NSAMPS = cfg.model.n_samps\n",
    "TOK_BATCH_SIZE = cfg.model.tokenizer.batch_size\n",
    "BI_ENCODER_MODEL_NAME = cfg.model.ir.bi_encoder.model_name\n",
    "EPOCHS = cfg.model.n_epochs\n",
    "BI_ENCODER_BATCH_SIZE =  cfg.model.ir.bi_encoder.batch_size\n",
    "CROSS_ENCODER_MODEL_NAME = cfg.model.ir.cross_encoder.model_name\n",
    "\n",
    "#tokenizer setup\n",
    "RETURN_TENSORS = cfg.model.tokenizer.return_tensors\n",
    "PADDING =  cfg.model.tokenizer.padding\n",
    "RETURN_OVERFLOW_TOKENS= cfg.model.tokenizer.return_overflow_tokens\n",
    "MAX_SEQ_LEN = cfg.model.tokenizer.max_seq_len\n",
    "TRUNCATION = cfg.model.tokenizer.truncation \n",
    "STRIDE = cfg.model.tokenizer.stride \n",
    "\n",
    "#query generator setup\n",
    "GENQ_MODEL_NAME = cfg.model.query_gen.model_name \n",
    "N_QUERIES_PER_PASSAGE =  cfg.model.query_gen.n_queries_per_passage \n",
    "\n",
    "#device\n",
    "DEVICE = torch.device(\"cuda\" if torch.cuda.is_available() else \"cpu\")\n",
    "\n",
    "#clean up gpu \n",
    "torch.cuda.empty_cache()\n",
    "gc.collect()\n",
    "logger.info(torch.cuda.memory_summary(device=DEVICE, abbreviated=True))\n",
    "\n",
    "#create output dirs\n",
    "create_output_dirs(SAVE_DIR, MODEL_SAVE_DIR)"
   ]
  },
  {
   "cell_type": "markdown",
   "metadata": {},
   "source": [
    "### Load models used in demo"
   ]
  },
  {
   "cell_type": "code",
   "execution_count": 3,
   "metadata": {},
   "outputs": [
    {
     "name": "stderr",
     "output_type": "stream",
     "text": [
      "You are using the legacy behaviour of the <class 'transformers.models.t5.tokenization_t5.T5Tokenizer'>. This means that tokens that come after special tokens will not be properly handled. We recommend you to read the related pull request available at https://github.com/huggingface/transformers/pull/24565\n",
      "INFO:sentence_transformers.SentenceTransformer:Load pretrained SentenceTransformer: C:\\Users\\zjc10\\Desktop\\Projects\\data\\semantic_search\\models\\fine_tuned_biencoder\n",
      "INFO:sentence_transformers.cross_encoder.CrossEncoder:Use pytorch device: cuda\n",
      "INFO:__main__:forcing model into eval mode\n"
     ]
    },
    {
     "name": "stdout",
     "output_type": "stream",
     "text": [
      "cuda\n"
     ]
    }
   ],
   "source": [
    "qgen_model = T5ForConditionalGeneration.from_pretrained(GENQ_MODEL_NAME)\n",
    "tokenizer = T5TokenizerFast.from_pretrained(GENQ_MODEL_NAME, do_lower_case=False)\n",
    "ir_model = load_model(str(MODEL_SAVE_DIR / 'fine_tuned_biencoder'), DEVICE)\n",
    "_ce = CrossEncoder(CROSS_ENCODER_MODEL_NAME)\n",
    "\n",
    "#call eval() to force / ensure model is running in 'INFERENCE MODE' and not 'TRAINING' mode\n",
    "logger.info('forcing model into eval mode')\n",
    "qgen_model.eval()\n",
    "model = qgen_model.to(DEVICE)\n",
    "print(DEVICE)"
   ]
  },
  {
   "cell_type": "markdown",
   "metadata": {},
   "source": [
    "#### LOAD DATA FOR QUERY GENERATION AND FINE TUNING "
   ]
  },
  {
   "cell_type": "code",
   "execution_count": 4,
   "metadata": {},
   "outputs": [
    {
     "name": "stderr",
     "output_type": "stream",
     "text": [
      "INFO:root:loading data from huggyface\n",
      "INFO:root:extracting text passages to generate queries for\n"
     ]
    },
    {
     "name": "stdout",
     "output_type": "stream",
     "text": [
      "20\n"
     ]
    }
   ],
   "source": [
    "logging.info('loading data from huggyface')\n",
    "df = load_data( load_from_directory=False \n",
    "               , hf_dataset_name = 'squad' \n",
    "               , split ='train') \n",
    "df[:1]\n",
    "\n",
    "\n",
    "# we want to emulate the scenario in which we do not have queries. \n",
    "# We will remove all but the 'context' data to do that. (aka all that is passed into framework is list of text)\n",
    "logging.info('extracting text passages to generate queries for')\n",
    "passages = list(set(df['context']))[2300:2300+ NSAMPS]\n",
    "passages = [(idx,txt) for idx,txt in enumerate(passages)]\n",
    "print(len(passages))"
   ]
  },
  {
   "cell_type": "markdown",
   "metadata": {},
   "source": [
    "### Initalize Query Generation Instance \n",
    "0) tokenize text into overlapping spanning windows \n",
    "1) create mapping of original input doc to associated tokeinized chunks \n",
    "2) for each chunk, generate 3 queries using t5\n",
    "3) return output data with 3 queries per input chunk"
   ]
  },
  {
   "cell_type": "code",
   "execution_count": 7,
   "metadata": {},
   "outputs": [
    {
     "data": {
      "text/html": [
       "<div>\n",
       "<style scoped>\n",
       "    .dataframe tbody tr th:only-of-type {\n",
       "        vertical-align: middle;\n",
       "    }\n",
       "\n",
       "    .dataframe tbody tr th {\n",
       "        vertical-align: top;\n",
       "    }\n",
       "\n",
       "    .dataframe thead th {\n",
       "        text-align: right;\n",
       "    }\n",
       "</style>\n",
       "<table border=\"1\" class=\"dataframe\">\n",
       "  <thead>\n",
       "    <tr style=\"text-align: right;\">\n",
       "      <th></th>\n",
       "      <th>text</th>\n",
       "      <th>doc</th>\n",
       "      <th>chunk</th>\n",
       "      <th>ec_query_txt</th>\n",
       "      <th>_index</th>\n",
       "      <th>passage</th>\n",
       "    </tr>\n",
       "  </thead>\n",
       "  <tbody>\n",
       "    <tr>\n",
       "      <th>0</th>\n",
       "      <td>Jeffrey Long and Rick Kittles give a long critique of the application of FST to human populations in their 2003 paper \"Human Genetic Diversity and the Nonexistence of Biological Races\". They find that the figure of 85% is misleading because it implies that all human populations contain on average 85% of all genetic diversity. They claim that this does not correctly reflect human population history, because it treats all human groups as independent. A more realistic portrayal of the way human groups are related is to understand that some human groups are parental to other groups and that these groups represent paraphyletic groups to their descent groups. For example, under the recent African origin theory the human population in Africa is paraphyletic to all other&lt;/s&gt;</td>\n",
       "      <td>0</td>\n",
       "      <td>0</td>\n",
       "      <td>what percent of the human population contains genetic diversity</td>\n",
       "      <td>0_0</td>\n",
       "      <td>0_0:Jeffrey Long and Rick Kittles give a long critique of the application of FST to human populations in their 2003 paper \"Human Genetic Diversity and the Nonexistence of Biological Races\". They find that the figure of 85% is misleading because it implies that all human populations contain on average 85% of all genetic diversity. They claim that this does not correctly reflect human population history, because it treats all human groups as independent. A more realistic portrayal of the way human groups are related is to understand that some human groups are parental to other groups and that these groups represent paraphyletic groups to their descent groups. For example, under the recent African origin theory the human population in Africa is paraphyletic to all other&lt;/s&gt;</td>\n",
       "    </tr>\n",
       "    <tr>\n",
       "      <th>1</th>\n",
       "      <td>Jeffrey Long and Rick Kittles give a long critique of the application of FST to human populations in their 2003 paper \"Human Genetic Diversity and the Nonexistence of Biological Races\". They find that the figure of 85% is misleading because it implies that all human populations contain on average 85% of all genetic diversity. They claim that this does not correctly reflect human population history, because it treats all human groups as independent. A more realistic portrayal of the way human groups are related is to understand that some human groups are parental to other groups and that these groups represent paraphyletic groups to their descent groups. For example, under the recent African origin theory the human population in Africa is paraphyletic to all other&lt;/s&gt;</td>\n",
       "      <td>0</td>\n",
       "      <td>0</td>\n",
       "      <td>what percent of human population is genetically diverse</td>\n",
       "      <td>0_0</td>\n",
       "      <td>0_0:Jeffrey Long and Rick Kittles give a long critique of the application of FST to human populations in their 2003 paper \"Human Genetic Diversity and the Nonexistence of Biological Races\". They find that the figure of 85% is misleading because it implies that all human populations contain on average 85% of all genetic diversity. They claim that this does not correctly reflect human population history, because it treats all human groups as independent. A more realistic portrayal of the way human groups are related is to understand that some human groups are parental to other groups and that these groups represent paraphyletic groups to their descent groups. For example, under the recent African origin theory the human population in Africa is paraphyletic to all other&lt;/s&gt;</td>\n",
       "    </tr>\n",
       "    <tr>\n",
       "      <th>2</th>\n",
       "      <td>Jeffrey Long and Rick Kittles give a long critique of the application of FST to human populations in their 2003 paper \"Human Genetic Diversity and the Nonexistence of Biological Races\". They find that the figure of 85% is misleading because it implies that all human populations contain on average 85% of all genetic diversity. They claim that this does not correctly reflect human population history, because it treats all human groups as independent. A more realistic portrayal of the way human groups are related is to understand that some human groups are parental to other groups and that these groups represent paraphyletic groups to their descent groups. For example, under the recent African origin theory the human population in Africa is paraphyletic to all other&lt;/s&gt;</td>\n",
       "      <td>0</td>\n",
       "      <td>0</td>\n",
       "      <td>how fst works for human diversity</td>\n",
       "      <td>0_0</td>\n",
       "      <td>0_0:Jeffrey Long and Rick Kittles give a long critique of the application of FST to human populations in their 2003 paper \"Human Genetic Diversity and the Nonexistence of Biological Races\". They find that the figure of 85% is misleading because it implies that all human populations contain on average 85% of all genetic diversity. They claim that this does not correctly reflect human population history, because it treats all human groups as independent. A more realistic portrayal of the way human groups are related is to understand that some human groups are parental to other groups and that these groups represent paraphyletic groups to their descent groups. For example, under the recent African origin theory the human population in Africa is paraphyletic to all other&lt;/s&gt;</td>\n",
       "    </tr>\n",
       "    <tr>\n",
       "      <th>3</th>\n",
       "      <td>more realistic portrayal of the way human groups are related is to understand that some human groups are parental to other groups and that these groups represent paraphyletic groups to their descent groups. For example, under the recent African origin theory the human population in Africa is paraphyletic to all other human groups because it represents the ancestral group from which all non-African populations derive, but more than that, non-African groups only derive from a small non-representative sample of this African population. This means that all non-African groups are more closely related to each other and to some African groups (probably east Africans) than they are to others, and further that the migration out of Africa represented&lt;/s&gt;</td>\n",
       "      <td>0</td>\n",
       "      <td>1</td>\n",
       "      <td>are all non-african humans related to all african</td>\n",
       "      <td>0_1</td>\n",
       "      <td>0_1:more realistic portrayal of the way human groups are related is to understand that some human groups are parental to other groups and that these groups represent paraphyletic groups to their descent groups. For example, under the recent African origin theory the human population in Africa is paraphyletic to all other human groups because it represents the ancestral group from which all non-African populations derive, but more than that, non-African groups only derive from a small non-representative sample of this African population. This means that all non-African groups are more closely related to each other and to some African groups (probably east Africans) than they are to others, and further that the migration out of Africa represented&lt;/s&gt;</td>\n",
       "    </tr>\n",
       "    <tr>\n",
       "      <th>4</th>\n",
       "      <td>more realistic portrayal of the way human groups are related is to understand that some human groups are parental to other groups and that these groups represent paraphyletic groups to their descent groups. For example, under the recent African origin theory the human population in Africa is paraphyletic to all other human groups because it represents the ancestral group from which all non-African populations derive, but more than that, non-African groups only derive from a small non-representative sample of this African population. This means that all non-African groups are more closely related to each other and to some African groups (probably east Africans) than they are to others, and further that the migration out of Africa represented&lt;/s&gt;</td>\n",
       "      <td>0</td>\n",
       "      <td>1</td>\n",
       "      <td>why is africa a paraphyletic group</td>\n",
       "      <td>0_1</td>\n",
       "      <td>0_1:more realistic portrayal of the way human groups are related is to understand that some human groups are parental to other groups and that these groups represent paraphyletic groups to their descent groups. For example, under the recent African origin theory the human population in Africa is paraphyletic to all other human groups because it represents the ancestral group from which all non-African populations derive, but more than that, non-African groups only derive from a small non-representative sample of this African population. This means that all non-African groups are more closely related to each other and to some African groups (probably east Africans) than they are to others, and further that the migration out of Africa represented&lt;/s&gt;</td>\n",
       "    </tr>\n",
       "    <tr>\n",
       "      <th>5</th>\n",
       "      <td>more realistic portrayal of the way human groups are related is to understand that some human groups are parental to other groups and that these groups represent paraphyletic groups to their descent groups. For example, under the recent African origin theory the human population in Africa is paraphyletic to all other human groups because it represents the ancestral group from which all non-African populations derive, but more than that, non-African groups only derive from a small non-representative sample of this African population. This means that all non-African groups are more closely related to each other and to some African groups (probably east Africans) than they are to others, and further that the migration out of Africa represented&lt;/s&gt;</td>\n",
       "      <td>0</td>\n",
       "      <td>1</td>\n",
       "      <td>which human group is paraphyletic?</td>\n",
       "      <td>0_1</td>\n",
       "      <td>0_1:more realistic portrayal of the way human groups are related is to understand that some human groups are parental to other groups and that these groups represent paraphyletic groups to their descent groups. For example, under the recent African origin theory the human population in Africa is paraphyletic to all other human groups because it represents the ancestral group from which all non-African populations derive, but more than that, non-African groups only derive from a small non-representative sample of this African population. This means that all non-African groups are more closely related to each other and to some African groups (probably east Africans) than they are to others, and further that the migration out of Africa represented&lt;/s&gt;</td>\n",
       "    </tr>\n",
       "    <tr>\n",
       "      <th>6</th>\n",
       "      <td>only derive from a small non-representative sample of this African population. This means that all non-African groups are more closely related to each other and to some African groups (probably east Africans) than they are to others, and further that the migration out of Africa represented a genetic bottleneck, with much of the diversity that existed in Africa not being carried out of Africa by the emigrating groups. This view produces a version of human population movements that do not result in all human populations being independent; but rather, produces a series of dilutions of diversity the further from Africa any population lives, each founding event representing a genetic subset of its parental population. Long&lt;/s&gt;</td>\n",
       "      <td>0</td>\n",
       "      <td>2</td>\n",
       "      <td>where was genetic diversity carried out in africa?</td>\n",
       "      <td>0_2</td>\n",
       "      <td>0_2:only derive from a small non-representative sample of this African population. This means that all non-African groups are more closely related to each other and to some African groups (probably east Africans) than they are to others, and further that the migration out of Africa represented a genetic bottleneck, with much of the diversity that existed in Africa not being carried out of Africa by the emigrating groups. This view produces a version of human population movements that do not result in all human populations being independent; but rather, produces a series of dilutions of diversity the further from Africa any population lives, each founding event representing a genetic subset of its parental population. Long&lt;/s&gt;</td>\n",
       "    </tr>\n",
       "    <tr>\n",
       "      <th>7</th>\n",
       "      <td>only derive from a small non-representative sample of this African population. This means that all non-African groups are more closely related to each other and to some African groups (probably east Africans) than they are to others, and further that the migration out of Africa represented a genetic bottleneck, with much of the diversity that existed in Africa not being carried out of Africa by the emigrating groups. This view produces a version of human population movements that do not result in all human populations being independent; but rather, produces a series of dilutions of diversity the further from Africa any population lives, each founding event representing a genetic subset of its parental population. Long&lt;/s&gt;</td>\n",
       "      <td>0</td>\n",
       "      <td>2</td>\n",
       "      <td>why are groups of african ancestors related to other groups</td>\n",
       "      <td>0_2</td>\n",
       "      <td>0_2:only derive from a small non-representative sample of this African population. This means that all non-African groups are more closely related to each other and to some African groups (probably east Africans) than they are to others, and further that the migration out of Africa represented a genetic bottleneck, with much of the diversity that existed in Africa not being carried out of Africa by the emigrating groups. This view produces a version of human population movements that do not result in all human populations being independent; but rather, produces a series of dilutions of diversity the further from Africa any population lives, each founding event representing a genetic subset of its parental population. Long&lt;/s&gt;</td>\n",
       "    </tr>\n",
       "    <tr>\n",
       "      <th>8</th>\n",
       "      <td>only derive from a small non-representative sample of this African population. This means that all non-African groups are more closely related to each other and to some African groups (probably east Africans) than they are to others, and further that the migration out of Africa represented a genetic bottleneck, with much of the diversity that existed in Africa not being carried out of Africa by the emigrating groups. This view produces a version of human population movements that do not result in all human populations being independent; but rather, produces a series of dilutions of diversity the further from Africa any population lives, each founding event representing a genetic subset of its parental population. Long&lt;/s&gt;</td>\n",
       "      <td>0</td>\n",
       "      <td>2</td>\n",
       "      <td>why was there a movement in the human population away from africa</td>\n",
       "      <td>0_2</td>\n",
       "      <td>0_2:only derive from a small non-representative sample of this African population. This means that all non-African groups are more closely related to each other and to some African groups (probably east Africans) than they are to others, and further that the migration out of Africa represented a genetic bottleneck, with much of the diversity that existed in Africa not being carried out of Africa by the emigrating groups. This view produces a version of human population movements that do not result in all human populations being independent; but rather, produces a series of dilutions of diversity the further from Africa any population lives, each founding event representing a genetic subset of its parental population. Long&lt;/s&gt;</td>\n",
       "    </tr>\n",
       "    <tr>\n",
       "      <th>9</th>\n",
       "      <td>. This view produces a version of human population movements that do not result in all human populations being independent; but rather, produces a series of dilutions of diversity the further from Africa any population lives, each founding event representing a genetic subset of its parental population. Long and Kittles find that rather than 85% of human genetic diversity existing in all human populations, about 100% of human diversity exists in a single African population, whereas only about 70% of human genetic diversity exists in a population derived from New Guinea. Long and Kittles argued that this still produces a global human population that is genetically homogeneous compared to other mammalian populations.&lt;/s&gt;&lt;pad&gt;&lt;pad&gt;</td>\n",
       "      <td>0</td>\n",
       "      <td>3</td>\n",
       "      <td>what percent of genetic variation exists in african humans</td>\n",
       "      <td>0_3</td>\n",
       "      <td>0_3:. This view produces a version of human population movements that do not result in all human populations being independent; but rather, produces a series of dilutions of diversity the further from Africa any population lives, each founding event representing a genetic subset of its parental population. Long and Kittles find that rather than 85% of human genetic diversity existing in all human populations, about 100% of human diversity exists in a single African population, whereas only about 70% of human genetic diversity exists in a population derived from New Guinea. Long and Kittles argued that this still produces a global human population that is genetically homogeneous compared to other mammalian populations.&lt;/s&gt;&lt;pad&gt;&lt;pad&gt;</td>\n",
       "    </tr>\n",
       "    <tr>\n",
       "      <th>10</th>\n",
       "      <td>. This view produces a version of human population movements that do not result in all human populations being independent; but rather, produces a series of dilutions of diversity the further from Africa any population lives, each founding event representing a genetic subset of its parental population. Long and Kittles find that rather than 85% of human genetic diversity existing in all human populations, about 100% of human diversity exists in a single African population, whereas only about 70% of human genetic diversity exists in a population derived from New Guinea. Long and Kittles argued that this still produces a global human population that is genetically homogeneous compared to other mammalian populations.&lt;/s&gt;&lt;pad&gt;&lt;pad&gt;</td>\n",
       "      <td>0</td>\n",
       "      <td>3</td>\n",
       "      <td>how much genetic diversity exists in a single human population</td>\n",
       "      <td>0_3</td>\n",
       "      <td>0_3:. This view produces a version of human population movements that do not result in all human populations being independent; but rather, produces a series of dilutions of diversity the further from Africa any population lives, each founding event representing a genetic subset of its parental population. Long and Kittles find that rather than 85% of human genetic diversity existing in all human populations, about 100% of human diversity exists in a single African population, whereas only about 70% of human genetic diversity exists in a population derived from New Guinea. Long and Kittles argued that this still produces a global human population that is genetically homogeneous compared to other mammalian populations.&lt;/s&gt;&lt;pad&gt;&lt;pad&gt;</td>\n",
       "    </tr>\n",
       "    <tr>\n",
       "      <th>11</th>\n",
       "      <td>. This view produces a version of human population movements that do not result in all human populations being independent; but rather, produces a series of dilutions of diversity the further from Africa any population lives, each founding event representing a genetic subset of its parental population. Long and Kittles find that rather than 85% of human genetic diversity existing in all human populations, about 100% of human diversity exists in a single African population, whereas only about 70% of human genetic diversity exists in a population derived from New Guinea. Long and Kittles argued that this still produces a global human population that is genetically homogeneous compared to other mammalian populations.&lt;/s&gt;&lt;pad&gt;&lt;pad&gt;</td>\n",
       "      <td>0</td>\n",
       "      <td>3</td>\n",
       "      <td>what percent of human diversity is found in africa</td>\n",
       "      <td>0_3</td>\n",
       "      <td>0_3:. This view produces a version of human population movements that do not result in all human populations being independent; but rather, produces a series of dilutions of diversity the further from Africa any population lives, each founding event representing a genetic subset of its parental population. Long and Kittles find that rather than 85% of human genetic diversity existing in all human populations, about 100% of human diversity exists in a single African population, whereas only about 70% of human genetic diversity exists in a population derived from New Guinea. Long and Kittles argued that this still produces a global human population that is genetically homogeneous compared to other mammalian populations.&lt;/s&gt;&lt;pad&gt;&lt;pad&gt;</td>\n",
       "    </tr>\n",
       "  </tbody>\n",
       "</table>\n",
       "</div>"
      ],
      "text/plain": [
       "                                                                                                                                                                                                                                                                                                                                                                                                                                                                                                                                                                                                                                                                                                                                                                                                         text  \\\n",
       "0   Jeffrey Long and Rick Kittles give a long critique of the application of FST to human populations in their 2003 paper \"Human Genetic Diversity and the Nonexistence of Biological Races\". They find that the figure of 85% is misleading because it implies that all human populations contain on average 85% of all genetic diversity. They claim that this does not correctly reflect human population history, because it treats all human groups as independent. A more realistic portrayal of the way human groups are related is to understand that some human groups are parental to other groups and that these groups represent paraphyletic groups to their descent groups. For example, under the recent African origin theory the human population in Africa is paraphyletic to all other</s>   \n",
       "1   Jeffrey Long and Rick Kittles give a long critique of the application of FST to human populations in their 2003 paper \"Human Genetic Diversity and the Nonexistence of Biological Races\". They find that the figure of 85% is misleading because it implies that all human populations contain on average 85% of all genetic diversity. They claim that this does not correctly reflect human population history, because it treats all human groups as independent. A more realistic portrayal of the way human groups are related is to understand that some human groups are parental to other groups and that these groups represent paraphyletic groups to their descent groups. For example, under the recent African origin theory the human population in Africa is paraphyletic to all other</s>   \n",
       "2   Jeffrey Long and Rick Kittles give a long critique of the application of FST to human populations in their 2003 paper \"Human Genetic Diversity and the Nonexistence of Biological Races\". They find that the figure of 85% is misleading because it implies that all human populations contain on average 85% of all genetic diversity. They claim that this does not correctly reflect human population history, because it treats all human groups as independent. A more realistic portrayal of the way human groups are related is to understand that some human groups are parental to other groups and that these groups represent paraphyletic groups to their descent groups. For example, under the recent African origin theory the human population in Africa is paraphyletic to all other</s>   \n",
       "3                          more realistic portrayal of the way human groups are related is to understand that some human groups are parental to other groups and that these groups represent paraphyletic groups to their descent groups. For example, under the recent African origin theory the human population in Africa is paraphyletic to all other human groups because it represents the ancestral group from which all non-African populations derive, but more than that, non-African groups only derive from a small non-representative sample of this African population. This means that all non-African groups are more closely related to each other and to some African groups (probably east Africans) than they are to others, and further that the migration out of Africa represented</s>   \n",
       "4                          more realistic portrayal of the way human groups are related is to understand that some human groups are parental to other groups and that these groups represent paraphyletic groups to their descent groups. For example, under the recent African origin theory the human population in Africa is paraphyletic to all other human groups because it represents the ancestral group from which all non-African populations derive, but more than that, non-African groups only derive from a small non-representative sample of this African population. This means that all non-African groups are more closely related to each other and to some African groups (probably east Africans) than they are to others, and further that the migration out of Africa represented</s>   \n",
       "5                          more realistic portrayal of the way human groups are related is to understand that some human groups are parental to other groups and that these groups represent paraphyletic groups to their descent groups. For example, under the recent African origin theory the human population in Africa is paraphyletic to all other human groups because it represents the ancestral group from which all non-African populations derive, but more than that, non-African groups only derive from a small non-representative sample of this African population. This means that all non-African groups are more closely related to each other and to some African groups (probably east Africans) than they are to others, and further that the migration out of Africa represented</s>   \n",
       "6                                                 only derive from a small non-representative sample of this African population. This means that all non-African groups are more closely related to each other and to some African groups (probably east Africans) than they are to others, and further that the migration out of Africa represented a genetic bottleneck, with much of the diversity that existed in Africa not being carried out of Africa by the emigrating groups. This view produces a version of human population movements that do not result in all human populations being independent; but rather, produces a series of dilutions of diversity the further from Africa any population lives, each founding event representing a genetic subset of its parental population. Long</s>   \n",
       "7                                                 only derive from a small non-representative sample of this African population. This means that all non-African groups are more closely related to each other and to some African groups (probably east Africans) than they are to others, and further that the migration out of Africa represented a genetic bottleneck, with much of the diversity that existed in Africa not being carried out of Africa by the emigrating groups. This view produces a version of human population movements that do not result in all human populations being independent; but rather, produces a series of dilutions of diversity the further from Africa any population lives, each founding event representing a genetic subset of its parental population. Long</s>   \n",
       "8                                                 only derive from a small non-representative sample of this African population. This means that all non-African groups are more closely related to each other and to some African groups (probably east Africans) than they are to others, and further that the migration out of Africa represented a genetic bottleneck, with much of the diversity that existed in Africa not being carried out of Africa by the emigrating groups. This view produces a version of human population movements that do not result in all human populations being independent; but rather, produces a series of dilutions of diversity the further from Africa any population lives, each founding event representing a genetic subset of its parental population. Long</s>   \n",
       "9                                           . This view produces a version of human population movements that do not result in all human populations being independent; but rather, produces a series of dilutions of diversity the further from Africa any population lives, each founding event representing a genetic subset of its parental population. Long and Kittles find that rather than 85% of human genetic diversity existing in all human populations, about 100% of human diversity exists in a single African population, whereas only about 70% of human genetic diversity exists in a population derived from New Guinea. Long and Kittles argued that this still produces a global human population that is genetically homogeneous compared to other mammalian populations.</s><pad><pad>   \n",
       "10                                          . This view produces a version of human population movements that do not result in all human populations being independent; but rather, produces a series of dilutions of diversity the further from Africa any population lives, each founding event representing a genetic subset of its parental population. Long and Kittles find that rather than 85% of human genetic diversity existing in all human populations, about 100% of human diversity exists in a single African population, whereas only about 70% of human genetic diversity exists in a population derived from New Guinea. Long and Kittles argued that this still produces a global human population that is genetically homogeneous compared to other mammalian populations.</s><pad><pad>   \n",
       "11                                          . This view produces a version of human population movements that do not result in all human populations being independent; but rather, produces a series of dilutions of diversity the further from Africa any population lives, each founding event representing a genetic subset of its parental population. Long and Kittles find that rather than 85% of human genetic diversity existing in all human populations, about 100% of human diversity exists in a single African population, whereas only about 70% of human genetic diversity exists in a population derived from New Guinea. Long and Kittles argued that this still produces a global human population that is genetically homogeneous compared to other mammalian populations.</s><pad><pad>   \n",
       "\n",
       "    doc  chunk  \\\n",
       "0     0      0   \n",
       "1     0      0   \n",
       "2     0      0   \n",
       "3     0      1   \n",
       "4     0      1   \n",
       "5     0      1   \n",
       "6     0      2   \n",
       "7     0      2   \n",
       "8     0      2   \n",
       "9     0      3   \n",
       "10    0      3   \n",
       "11    0      3   \n",
       "\n",
       "                                                         ec_query_txt _index  \\\n",
       "0     what percent of the human population contains genetic diversity    0_0   \n",
       "1             what percent of human population is genetically diverse    0_0   \n",
       "2                                   how fst works for human diversity    0_0   \n",
       "3                   are all non-african humans related to all african    0_1   \n",
       "4                                  why is africa a paraphyletic group    0_1   \n",
       "5                                  which human group is paraphyletic?    0_1   \n",
       "6                  where was genetic diversity carried out in africa?    0_2   \n",
       "7         why are groups of african ancestors related to other groups    0_2   \n",
       "8   why was there a movement in the human population away from africa    0_2   \n",
       "9          what percent of genetic variation exists in african humans    0_3   \n",
       "10     how much genetic diversity exists in a single human population    0_3   \n",
       "11                 what percent of human diversity is found in africa    0_3   \n",
       "\n",
       "                                                                                                                                                                                                                                                                                                                                                                                                                                                                                                                                                                                                                                                                                                                                                                                                          passage  \n",
       "0   0_0:Jeffrey Long and Rick Kittles give a long critique of the application of FST to human populations in their 2003 paper \"Human Genetic Diversity and the Nonexistence of Biological Races\". They find that the figure of 85% is misleading because it implies that all human populations contain on average 85% of all genetic diversity. They claim that this does not correctly reflect human population history, because it treats all human groups as independent. A more realistic portrayal of the way human groups are related is to understand that some human groups are parental to other groups and that these groups represent paraphyletic groups to their descent groups. For example, under the recent African origin theory the human population in Africa is paraphyletic to all other</s>  \n",
       "1   0_0:Jeffrey Long and Rick Kittles give a long critique of the application of FST to human populations in their 2003 paper \"Human Genetic Diversity and the Nonexistence of Biological Races\". They find that the figure of 85% is misleading because it implies that all human populations contain on average 85% of all genetic diversity. They claim that this does not correctly reflect human population history, because it treats all human groups as independent. A more realistic portrayal of the way human groups are related is to understand that some human groups are parental to other groups and that these groups represent paraphyletic groups to their descent groups. For example, under the recent African origin theory the human population in Africa is paraphyletic to all other</s>  \n",
       "2   0_0:Jeffrey Long and Rick Kittles give a long critique of the application of FST to human populations in their 2003 paper \"Human Genetic Diversity and the Nonexistence of Biological Races\". They find that the figure of 85% is misleading because it implies that all human populations contain on average 85% of all genetic diversity. They claim that this does not correctly reflect human population history, because it treats all human groups as independent. A more realistic portrayal of the way human groups are related is to understand that some human groups are parental to other groups and that these groups represent paraphyletic groups to their descent groups. For example, under the recent African origin theory the human population in Africa is paraphyletic to all other</s>  \n",
       "3                          0_1:more realistic portrayal of the way human groups are related is to understand that some human groups are parental to other groups and that these groups represent paraphyletic groups to their descent groups. For example, under the recent African origin theory the human population in Africa is paraphyletic to all other human groups because it represents the ancestral group from which all non-African populations derive, but more than that, non-African groups only derive from a small non-representative sample of this African population. This means that all non-African groups are more closely related to each other and to some African groups (probably east Africans) than they are to others, and further that the migration out of Africa represented</s>  \n",
       "4                          0_1:more realistic portrayal of the way human groups are related is to understand that some human groups are parental to other groups and that these groups represent paraphyletic groups to their descent groups. For example, under the recent African origin theory the human population in Africa is paraphyletic to all other human groups because it represents the ancestral group from which all non-African populations derive, but more than that, non-African groups only derive from a small non-representative sample of this African population. This means that all non-African groups are more closely related to each other and to some African groups (probably east Africans) than they are to others, and further that the migration out of Africa represented</s>  \n",
       "5                          0_1:more realistic portrayal of the way human groups are related is to understand that some human groups are parental to other groups and that these groups represent paraphyletic groups to their descent groups. For example, under the recent African origin theory the human population in Africa is paraphyletic to all other human groups because it represents the ancestral group from which all non-African populations derive, but more than that, non-African groups only derive from a small non-representative sample of this African population. This means that all non-African groups are more closely related to each other and to some African groups (probably east Africans) than they are to others, and further that the migration out of Africa represented</s>  \n",
       "6                                                 0_2:only derive from a small non-representative sample of this African population. This means that all non-African groups are more closely related to each other and to some African groups (probably east Africans) than they are to others, and further that the migration out of Africa represented a genetic bottleneck, with much of the diversity that existed in Africa not being carried out of Africa by the emigrating groups. This view produces a version of human population movements that do not result in all human populations being independent; but rather, produces a series of dilutions of diversity the further from Africa any population lives, each founding event representing a genetic subset of its parental population. Long</s>  \n",
       "7                                                 0_2:only derive from a small non-representative sample of this African population. This means that all non-African groups are more closely related to each other and to some African groups (probably east Africans) than they are to others, and further that the migration out of Africa represented a genetic bottleneck, with much of the diversity that existed in Africa not being carried out of Africa by the emigrating groups. This view produces a version of human population movements that do not result in all human populations being independent; but rather, produces a series of dilutions of diversity the further from Africa any population lives, each founding event representing a genetic subset of its parental population. Long</s>  \n",
       "8                                                 0_2:only derive from a small non-representative sample of this African population. This means that all non-African groups are more closely related to each other and to some African groups (probably east Africans) than they are to others, and further that the migration out of Africa represented a genetic bottleneck, with much of the diversity that existed in Africa not being carried out of Africa by the emigrating groups. This view produces a version of human population movements that do not result in all human populations being independent; but rather, produces a series of dilutions of diversity the further from Africa any population lives, each founding event representing a genetic subset of its parental population. Long</s>  \n",
       "9                                           0_3:. This view produces a version of human population movements that do not result in all human populations being independent; but rather, produces a series of dilutions of diversity the further from Africa any population lives, each founding event representing a genetic subset of its parental population. Long and Kittles find that rather than 85% of human genetic diversity existing in all human populations, about 100% of human diversity exists in a single African population, whereas only about 70% of human genetic diversity exists in a population derived from New Guinea. Long and Kittles argued that this still produces a global human population that is genetically homogeneous compared to other mammalian populations.</s><pad><pad>  \n",
       "10                                          0_3:. This view produces a version of human population movements that do not result in all human populations being independent; but rather, produces a series of dilutions of diversity the further from Africa any population lives, each founding event representing a genetic subset of its parental population. Long and Kittles find that rather than 85% of human genetic diversity existing in all human populations, about 100% of human diversity exists in a single African population, whereas only about 70% of human genetic diversity exists in a population derived from New Guinea. Long and Kittles argued that this still produces a global human population that is genetically homogeneous compared to other mammalian populations.</s><pad><pad>  \n",
       "11                                          0_3:. This view produces a version of human population movements that do not result in all human populations being independent; but rather, produces a series of dilutions of diversity the further from Africa any population lives, each founding event representing a genetic subset of its parental population. Long and Kittles find that rather than 85% of human genetic diversity existing in all human populations, about 100% of human diversity exists in a single African population, whereas only about 70% of human genetic diversity exists in a population derived from New Guinea. Long and Kittles argued that this still produces a global human population that is genetically homogeneous compared to other mammalian populations.</s><pad><pad>  "
      ]
     },
     "execution_count": 7,
     "metadata": {},
     "output_type": "execute_result"
    }
   ],
   "source": [
    "#initalize class to generate queries from passages\n",
    "logger.info('initalize embedding querier')\n",
    "queryer = query_ops(\n",
    "     tokenizer\n",
    "    , qgen_model \n",
    "    , SAVE_DIR\n",
    "    , n_queries_per_passage = N_QUERIES_PER_PASSAGE\n",
    "    , save_batch_size = 1000\n",
    "    , train_batch_size = TOK_BATCH_SIZE    \n",
    "    , return_tensors = RETURN_TENSORS\n",
    "    , padding =  PADDING\n",
    "    , return_overflowing_tokens= RETURN_OVERFLOW_TOKENS\n",
    "    , max_seq_len = MAX_SEQ_LEN\n",
    "    , truncation = TRUNCATION \n",
    "    , stride = STRIDE \n",
    "    )\n",
    "\n",
    "#generate query,passage key value pairs , save to disk , return paths \n",
    "logger.info('generating query, passage key value pairs')\n",
    "query_passage_outpaths = queryer.gen_queries_from_passages(passages)\n",
    "                  \n",
    "#create sentence_transformers comptable training dataset using InputExample() method from transformers\n",
    "logger.info('creating training data for bi-encoder fine tuning')\n",
    "\n",
    "#create train df, including docidx, and chunk idx information\n",
    "train_df , pairs= queryer.create_training_data( query_passage_outpaths)\n",
    "\n",
    "#create object to handle loading of InputExample() instances in batches of 50 \n",
    "logger.info('creating loader to handle loading batches of data for model training')\n",
    "\n",
    "#show mapping of chunks back to original doc \n",
    "pd.set_option('display.max_colwidth', None)\n",
    "train_df[train_df['doc']==0]"
   ]
  },
  {
   "cell_type": "markdown",
   "metadata": {},
   "source": [
    "### Train Information Retreival model using Augmented (Query , chunk) inputs  "
   ]
  },
  {
   "cell_type": "code",
   "execution_count": 8,
   "metadata": {},
   "outputs": [
    {
     "name": "stderr",
     "output_type": "stream",
     "text": [
      "INFO:__main__:building model\n",
      "Some weights of MPNetModel were not initialized from the model checkpoint at microsoft/mpnet-base and are newly initialized: ['mpnet.pooler.dense.weight', 'mpnet.pooler.dense.bias']\n",
      "You should probably TRAIN this model on a down-stream task to be able to use it for predictions and inference.\n",
      "INFO:sentence_transformers.SentenceTransformer:Use pytorch device: cuda\n",
      "Iteration: 100%|██████████| 19/19 [00:16<00:00,  1.14it/s]\n",
      "Iteration: 100%|██████████| 19/19 [00:16<00:00,  1.15it/s]\n",
      "Epoch: 100%|██████████| 2/2 [00:33<00:00, 16.62s/it]\n",
      "INFO:sentence_transformers.SentenceTransformer:Save model to C:\\Users\\zjc10\\Desktop\\Projects\\data\\semantic_search\\models\\fine_tuned_biencoder\n",
      "INFO:sentence_transformers.SentenceTransformer:Load pretrained SentenceTransformer: C:\\Users\\zjc10\\Desktop\\Projects\\data\\semantic_search\\models\\fine_tuned_biencoder\n"
     ]
    },
    {
     "data": {
      "text/plain": [
       "SentenceTransformer(\n",
       "  (0): Transformer({'max_seq_length': 512, 'do_lower_case': False}) with Transformer model: MPNetModel \n",
       "  (1): Pooling({'word_embedding_dimension': 768, 'pooling_mode_cls_token': False, 'pooling_mode_mean_tokens': True, 'pooling_mode_max_tokens': False, 'pooling_mode_mean_sqrt_len_tokens': False})\n",
       ")"
      ]
     },
     "execution_count": 8,
     "metadata": {},
     "output_type": "execute_result"
    }
   ],
   "source": [
    "#build and train the bi-encoder to be used for asymetric search (information retrieval)\n",
    "#the trained model will encode passages into embeddings that are trained to be queried via short questions (as oppposed to just blindly taking the cossime between a short a long seq of text)\n",
    "logger.info('building model')\n",
    "ir_model  = build_model(pairs\n",
    "                    , BI_ENCODER_MODEL_NAME\n",
    "                    , str(MODEL_SAVE_DIR / 'fine_tuned_biencoder')\n",
    "                    , epochs=EPOCHS\n",
    "                    , batch_size = BI_ENCODER_BATCH_SIZE\n",
    "                    )\n",
    "\n",
    "del ir_model\n",
    "#build index to encode a fast query trained asyemetric embeddings\n",
    "ir_model = load_model(str(MODEL_SAVE_DIR / 'fine_tuned_biencoder'), DEVICE)\n",
    "ir_model.eval()"
   ]
  },
  {
   "cell_type": "markdown",
   "metadata": {},
   "source": [
    "### Create FAISS INDEX WITH PRE-TRAINED BI-ENCODER and optinal CROSS ENCODER FOR FINE TUNING RESULTS"
   ]
  },
  {
   "cell_type": "code",
   "execution_count": 9,
   "metadata": {},
   "outputs": [
    {
     "name": "stderr",
     "output_type": "stream",
     "text": [
      "INFO:sentence_transformers.cross_encoder.CrossEncoder:Use pytorch device: cuda\n",
      "Batches: 100%|██████████| 2/2 [00:00<00:00,  2.13it/s]\n"
     ]
    }
   ],
   "source": [
    "#create passage embeddings using the  new fine tuned bi - encoder\n",
    "#define index object parameters\n",
    "f_idx = faiss_index(train_df[['_index','passage']].drop_duplicates().reset_index(drop=True) #df\n",
    "                    , ir_model #model\n",
    "                    , ir_model[1].word_embedding_dimension\n",
    "                    , text_col = 'passage'\n",
    "                    , id_col = '_index'\n",
    "                    , index_outpath = INDEX_SAVE_DIR\n",
    "                    , cross_encoder_model_name = CROSS_ENCODER_MODEL_NAME\n",
    "                    )\n",
    "#create index\n",
    "index_outp , data_outp, id_outp = f_idx.create_index()"
   ]
  },
  {
   "cell_type": "code",
   "execution_count": 21,
   "metadata": {},
   "outputs": [
    {
     "name": "stderr",
     "output_type": "stream",
     "text": [
      "Batches: 100%|██████████| 1/1 [00:00<00:00, 39.17it/s]"
     ]
    },
    {
     "name": "stdout",
     "output_type": "stream",
     "text": [
      ">>>> Results in Total Time: 0.03685927391052246\n",
      "(array([[4.886207 , 4.7444015, 4.593949 , 4.586941 , 4.3751616, 4.353961 ,\n",
      "        4.3052807, 4.2540026, 4.154897 , 4.075979 ]], dtype=float32), array([[13, 12, 29, 18, 23, 31, 28, 20, 24,  8]], dtype=int64))\n",
      "[8, 12, 13, 18, 20, 23, 24, 28, 29, 31]\n",
      "[4.886207103729248, 4.744401454925537, 4.593948841094971, 4.586940765380859, 4.375161647796631, 4.353960990905762, 4.305280685424805, 4.254002571105957, 4.154897212982178, 4.075979232788086]\n",
      "{'3_2': {'text': '3_2:at least in the sciences, to choose epistemological foundations and methods. For instance, Melanchthon and his disciples at University of Wittenberg were instrumental for integrating Copernican mathematical constructs into astronomical debate and instruction. Another example was the short-lived but fairly rapid adoption of Cartesian epistemology and methodology in European universities, and the debates surrounding that adoption, which led to more mechanistic approaches to scientific problems as well as demonstrated an openness to change. There are many examples which belie the commonly perceived intransigence of universities. Although universities may have been slow to accept new sciences and methodologies as they emerged, when they did accept new ideas it helped</s>', 'score': 4.886207103729248}}\n",
      "{'5_0': {'text': \"5_0:Unveiled in 1888, Royal Arsenal's first crest featured three cannon viewed from above, pointing northwards, similar to the coat of arms of the Metropolitan Borough of Woolwich (nowadays transferred to the coat of arms of the Royal Borough of Greenwich). These can sometimes be mistaken for chimneys, but the presence of a carved lion's head and a cascabel on each are clear indicators that they are cannon. This was dropped after the move to Highbury in 1913, only to be reinstated in 1922, when the club adopted a crest featuring a single cannon, pointing eastwards, with</s>\", 'score': 4.744401454925537}}\n",
      "{'5_1': {'text': \"5_1:cascabel on each are clear indicators that they are cannon. This was dropped after the move to Highbury in 1913, only to be reinstated in 1922, when the club adopted a crest featuring a single cannon, pointing eastwards, with the club's nickname, The Gunners, inscribed alongside it; this crest only lasted until 1925, when the cannon was reversed to point westward and its barrel slimmed down.</s><pad><pad><pad><pad><pad><pad><pad><pad><pad><pad><pad><pad><pad><pad><pad><pad><pad><pad><pad><pad><pad><pad><pad><pad><pad><pad><pad><pad><pad><pad><pad><pad><pad><pad><pad><pad><pad><pad><pad><pad><pad><pad><pad><pad><pad>\", 'score': 4.593948841094971}}\n",
      "{'8_0': {'text': '8_0:Media requests at the trade show prompted Kondo to consider using orchestral music for the other tracks in the game as well, a notion reinforced by his preference for live instruments. He originally envisioned a full 50-person orchestra for action sequences and a string quartet for more \"lyrical moments\", though the final product used sequenced music instead. Kondo later cited the lack of interactivity that comes with orchestral music as one of the main reasons for the decision. Both six- and seven-track versions of the game\\'s soundtrack were released on November 19, 2006, as part of a Nintendo Power promotion and bundled with replicas of the Master Sword and the Hylian Shield.</s><pad>', 'score': 4.586940765380859}}\n",
      "{'10_0': {'text': \"10_0:Compared to children, adolescents are more likely to question others' assertions, and less likely to accept facts as absolute truths. Through experience outside the family circle, they learn that rules they were taught as absolute are in fact relativistic. They begin to differentiate between rules instituted out of common sense—not touching a hot stove—and those that are based on culturally-relative standards (codes of etiquette, not dating until a certain age), a delineation that younger children do not make. This can lead to a period of questioning authority in all domains.</s><pad><pad><pad><pad><pad><pad><pad><pad><pad><pad><pad><pad><pad><pad><pad><pad><pad><pad><pad><pad>\", 'score': 4.375161647796631}}\n",
      "{'12_0': {'text': '12_0:Several campus safety strategies have been pioneered at Yale. The first campus police force was founded at Yale in 1894, when the university contracted city police officers to exclusively cover the campus. Later hired by the university, the officers were originally brought in to quell unrest between students and city residents and curb destructive student behavior. In addition to the Yale Police Department, a variety of safety services are available including blue phones, a safety escort, and 24-hour shuttle service.</s><pad><pad><pad><pad><pad><pad><pad><pad><pad><pad><pad><pad><pad><pad><pad><pad><pad><pad><pad><pad><pad><pad><pad><pad><pad><pad><pad><pad><pad><pad><pad><pad><pad><pad><pad><pad><pad><pad><pad><pad><pad><pad><pad><pad><pad><pad><pad><pad>', 'score': 4.353960990905762}}\n",
      "{'13_0': {'text': \"13_0:Glaciers form where the accumulation of snow and ice exceeds ablation. The area in which a glacier forms is called a cirque (corrie or cwm) - a typically armchair-shaped geological feature (such as a depression between mountains enclosed by arêtes) - which collects and compresses through gravity the snow which falls into it. This snow collects and is compacted by the weight of the snow falling above it forming névé. Further crushing of the individual snowflakes and squeezing the air from the snow turns it into 'glacial ice'. This glacial ice will fill the cirque until</s>\", 'score': 4.305280685424805}}\n",
      "{'16_0': {'text': '16_0:The Bibliothèque nationale et universitaire (BNU) is, with its collection of more than 3,000,000 titles, the second largest library in France after the Bibliothèque nationale de France. It was founded by the German administration after the complete destruction of the previous municipal library in 1871 and holds the unique status of being simultaneously a students\\' and a national library. The Strasbourg municipal library had been marked erroneously as \"City Hall\" in a French commercial map, which had been captured and used by the German artillery to lay their guns. A librarian from Munich later pointed out \"...that the destruction of the precious collection was not the fault of a German artillery officer, who</s>', 'score': 4.254002571105957}}\n",
      "{'16_1': {'text': '16_1:as \"City Hall\" in a French commercial map, which had been captured and used by the German artillery to lay their guns. A librarian from Munich later pointed out \"...that the destruction of the precious collection was not the fault of a German artillery officer, who used the French map, but of the slovenly and inaccurate scholarship of a Frenchman.\"</s><pad><pad><pad><pad><pad><pad><pad><pad><pad><pad><pad><pad><pad><pad><pad><pad><pad><pad><pad><pad><pad><pad><pad><pad><pad><pad><pad><pad><pad><pad><pad><pad><pad><pad><pad><pad><pad><pad><pad><pad><pad><pad><pad><pad><pad><pad><pad><pad><pad><pad><pad><pad><pad><pad><pad><pad><pad><pad><pad><pad><pad><pad><pad><pad><pad><pad><pad>', 'score': 4.154897212982178}}\n",
      "{'18_0': {'text': '18_0:In the 2000 presidential election, Vice President Al Gore, a former Democratic U.S. Senator from Tennessee, failed to carry his home state, an unusual occurrence but indicative of strengthening Republican support. Republican George W. Bush received increased support in 2004, with his margin of victory in the state increasing from 4% in 2000 to 14% in 2004. Democratic presidential nominees from Southern states (such as Lyndon B. Johnson, Jimmy Carter, Bill Clinton) usually fare better than their Northern counterparts do in Tennessee, especially among split-ticket voters outside the metropolitan areas.</s><pad><pad><pad><pad><pad><pad><pad><pad><pad><pad><pad><pad><pad><pad><pad><pad><pad><pad><pad><pad><pad><pad><pad><pad><pad><pad><pad><pad><pad><pad>', 'score': 4.075979232788086}}\n"
     ]
    },
    {
     "name": "stderr",
     "output_type": "stream",
     "text": [
      "\n"
     ]
    }
   ],
   "source": [
    "#search index \n",
    "query_ = 'who is zack?'\n",
    "results = f_idx.search(query_,10, refine_with_crossencoder=False)\n"
   ]
  },
  {
   "cell_type": "code",
   "execution_count": 20,
   "metadata": {},
   "outputs": [
    {
     "name": "stderr",
     "output_type": "stream",
     "text": [
      "Batches: 100%|██████████| 1/1 [00:00<00:00, 49.93it/s]\n"
     ]
    },
    {
     "name": "stdout",
     "output_type": "stream",
     "text": [
      ">>>> Results in Total Time: 0.03305244445800781\n",
      "(array([[4.886207 , 4.7444015, 4.593949 , 4.586941 , 4.3751616, 4.353961 ,\n",
      "        4.3052807, 4.2540026, 4.154897 , 4.075979 ]], dtype=float32), array([[13, 12, 29, 18, 23, 31, 28, 20, 24,  8]], dtype=int64))\n",
      "[8, 12, 13, 18, 20, 23, 24, 28, 29, 31]\n",
      "[4.886207103729248, 4.744401454925537, 4.593948841094971, 4.586940765380859, 4.375161647796631, 4.353960990905762, 4.305280685424805, 4.254002571105957, 4.154897212982178, 4.075979232788086]\n",
      "{'3_2': {'text': '3_2:at least in the sciences, to choose epistemological foundations and methods. For instance, Melanchthon and his disciples at University of Wittenberg were instrumental for integrating Copernican mathematical constructs into astronomical debate and instruction. Another example was the short-lived but fairly rapid adoption of Cartesian epistemology and methodology in European universities, and the debates surrounding that adoption, which led to more mechanistic approaches to scientific problems as well as demonstrated an openness to change. There are many examples which belie the commonly perceived intransigence of universities. Although universities may have been slow to accept new sciences and methodologies as they emerged, when they did accept new ideas it helped</s>', 'score': 4.886207103729248}}\n",
      "{'5_0': {'text': \"5_0:Unveiled in 1888, Royal Arsenal's first crest featured three cannon viewed from above, pointing northwards, similar to the coat of arms of the Metropolitan Borough of Woolwich (nowadays transferred to the coat of arms of the Royal Borough of Greenwich). These can sometimes be mistaken for chimneys, but the presence of a carved lion's head and a cascabel on each are clear indicators that they are cannon. This was dropped after the move to Highbury in 1913, only to be reinstated in 1922, when the club adopted a crest featuring a single cannon, pointing eastwards, with</s>\", 'score': 4.744401454925537}}\n",
      "{'5_1': {'text': \"5_1:cascabel on each are clear indicators that they are cannon. This was dropped after the move to Highbury in 1913, only to be reinstated in 1922, when the club adopted a crest featuring a single cannon, pointing eastwards, with the club's nickname, The Gunners, inscribed alongside it; this crest only lasted until 1925, when the cannon was reversed to point westward and its barrel slimmed down.</s><pad><pad><pad><pad><pad><pad><pad><pad><pad><pad><pad><pad><pad><pad><pad><pad><pad><pad><pad><pad><pad><pad><pad><pad><pad><pad><pad><pad><pad><pad><pad><pad><pad><pad><pad><pad><pad><pad><pad><pad><pad><pad><pad><pad><pad>\", 'score': 4.593948841094971}}\n",
      "{'8_0': {'text': '8_0:Media requests at the trade show prompted Kondo to consider using orchestral music for the other tracks in the game as well, a notion reinforced by his preference for live instruments. He originally envisioned a full 50-person orchestra for action sequences and a string quartet for more \"lyrical moments\", though the final product used sequenced music instead. Kondo later cited the lack of interactivity that comes with orchestral music as one of the main reasons for the decision. Both six- and seven-track versions of the game\\'s soundtrack were released on November 19, 2006, as part of a Nintendo Power promotion and bundled with replicas of the Master Sword and the Hylian Shield.</s><pad>', 'score': 4.586940765380859}}\n",
      "{'10_0': {'text': \"10_0:Compared to children, adolescents are more likely to question others' assertions, and less likely to accept facts as absolute truths. Through experience outside the family circle, they learn that rules they were taught as absolute are in fact relativistic. They begin to differentiate between rules instituted out of common sense—not touching a hot stove—and those that are based on culturally-relative standards (codes of etiquette, not dating until a certain age), a delineation that younger children do not make. This can lead to a period of questioning authority in all domains.</s><pad><pad><pad><pad><pad><pad><pad><pad><pad><pad><pad><pad><pad><pad><pad><pad><pad><pad><pad><pad>\", 'score': 4.375161647796631}}\n",
      "{'12_0': {'text': '12_0:Several campus safety strategies have been pioneered at Yale. The first campus police force was founded at Yale in 1894, when the university contracted city police officers to exclusively cover the campus. Later hired by the university, the officers were originally brought in to quell unrest between students and city residents and curb destructive student behavior. In addition to the Yale Police Department, a variety of safety services are available including blue phones, a safety escort, and 24-hour shuttle service.</s><pad><pad><pad><pad><pad><pad><pad><pad><pad><pad><pad><pad><pad><pad><pad><pad><pad><pad><pad><pad><pad><pad><pad><pad><pad><pad><pad><pad><pad><pad><pad><pad><pad><pad><pad><pad><pad><pad><pad><pad><pad><pad><pad><pad><pad><pad><pad><pad>', 'score': 4.353960990905762}}\n",
      "{'13_0': {'text': \"13_0:Glaciers form where the accumulation of snow and ice exceeds ablation. The area in which a glacier forms is called a cirque (corrie or cwm) - a typically armchair-shaped geological feature (such as a depression between mountains enclosed by arêtes) - which collects and compresses through gravity the snow which falls into it. This snow collects and is compacted by the weight of the snow falling above it forming névé. Further crushing of the individual snowflakes and squeezing the air from the snow turns it into 'glacial ice'. This glacial ice will fill the cirque until</s>\", 'score': 4.305280685424805}}\n",
      "{'16_0': {'text': '16_0:The Bibliothèque nationale et universitaire (BNU) is, with its collection of more than 3,000,000 titles, the second largest library in France after the Bibliothèque nationale de France. It was founded by the German administration after the complete destruction of the previous municipal library in 1871 and holds the unique status of being simultaneously a students\\' and a national library. The Strasbourg municipal library had been marked erroneously as \"City Hall\" in a French commercial map, which had been captured and used by the German artillery to lay their guns. A librarian from Munich later pointed out \"...that the destruction of the precious collection was not the fault of a German artillery officer, who</s>', 'score': 4.254002571105957}}\n",
      "{'16_1': {'text': '16_1:as \"City Hall\" in a French commercial map, which had been captured and used by the German artillery to lay their guns. A librarian from Munich later pointed out \"...that the destruction of the precious collection was not the fault of a German artillery officer, who used the French map, but of the slovenly and inaccurate scholarship of a Frenchman.\"</s><pad><pad><pad><pad><pad><pad><pad><pad><pad><pad><pad><pad><pad><pad><pad><pad><pad><pad><pad><pad><pad><pad><pad><pad><pad><pad><pad><pad><pad><pad><pad><pad><pad><pad><pad><pad><pad><pad><pad><pad><pad><pad><pad><pad><pad><pad><pad><pad><pad><pad><pad><pad><pad><pad><pad><pad><pad><pad><pad><pad><pad><pad><pad><pad><pad><pad><pad>', 'score': 4.154897212982178}}\n",
      "{'18_0': {'text': '18_0:In the 2000 presidential election, Vice President Al Gore, a former Democratic U.S. Senator from Tennessee, failed to carry his home state, an unusual occurrence but indicative of strengthening Republican support. Republican George W. Bush received increased support in 2004, with his margin of victory in the state increasing from 4% in 2000 to 14% in 2004. Democratic presidential nominees from Southern states (such as Lyndon B. Johnson, Jimmy Carter, Bill Clinton) usually fare better than their Northern counterparts do in Tennessee, especially among split-ticket voters outside the metropolitan areas.</s><pad><pad><pad><pad><pad><pad><pad><pad><pad><pad><pad><pad><pad><pad><pad><pad><pad><pad><pad><pad><pad><pad><pad><pad><pad><pad><pad><pad><pad><pad>', 'score': 4.075979232788086}}\n"
     ]
    },
    {
     "name": "stderr",
     "output_type": "stream",
     "text": [
      "Batches: 100%|██████████| 1/1 [00:00<00:00, 73.90it/s]\n"
     ]
    }
   ],
   "source": [
    "results = f_idx.search('who is zack',10, refine_with_crossencoder=True)\n"
   ]
  }
 ],
 "metadata": {
  "kernelspec": {
   "display_name": "embed_db",
   "language": "python",
   "name": "python3"
  },
  "language_info": {
   "codemirror_mode": {
    "name": "ipython",
    "version": 3
   },
   "file_extension": ".py",
   "mimetype": "text/x-python",
   "name": "python",
   "nbconvert_exporter": "python",
   "pygments_lexer": "ipython3",
   "version": "3.10.7"
  },
  "orig_nbformat": 4
 },
 "nbformat": 4,
 "nbformat_minor": 2
}
